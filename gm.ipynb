{
 "cells": [
  {
   "cell_type": "code",
   "execution_count": 16,
   "id": "035aa2e3-2f18-4815-8c62-315541d180d8",
   "metadata": {},
   "outputs": [],
   "source": [
    "import random"
   ]
  },
  {
   "cell_type": "code",
   "execution_count": 11,
   "id": "6b9be22f-5a39-45ff-b8e0-4cd29f9d0451",
   "metadata": {},
   "outputs": [],
   "source": [
    "from firebase_admin import initialize_app, credentials, db"
   ]
  },
  {
   "cell_type": "code",
   "execution_count": 2,
   "id": "91d21aa9-7340-4ada-9ae6-74236bde10dc",
   "metadata": {},
   "outputs": [],
   "source": [
    "cred = credentials.Certificate('creds.json')"
   ]
  },
  {
   "cell_type": "code",
   "execution_count": 3,
   "id": "df563705-75d7-4bfb-870f-05843a67750a",
   "metadata": {},
   "outputs": [],
   "source": [
    "app = initialize_app(cred, {'databaseURL': \"https://calzan-default-rtdb.europe-west1.firebasedatabase.app/\"})"
   ]
  },
  {
   "cell_type": "code",
   "execution_count": 5,
   "id": "e464b7b4-9f07-4eec-8fc2-706a6b5c0944",
   "metadata": {},
   "outputs": [],
   "source": [
    "class Game:\n",
    "    \n",
    "    def __init__(self, aliases):\n",
    "        \n",
    "        self.turn_ref = db.reference(\"/turn\")\n",
    "        self.board_ref = db.reference(\"/board\")\n",
    "        self.stack_ref = db.reference(\"/stack\")\n",
    "        self.player_refs = [db.reference('/players/' + a) for a in aliases]\n",
    "        self.player_count = len(self.player_refs)\n",
    "        \n",
    "        \n",
    "    def set_board(self, board):\n",
    "        \n",
    "        self.board_ref.set(board)\n",
    "        \n",
    "        \n",
    "    def initialize(self):\n",
    "        \n",
    "        for player_num, player_ref in enumerate(self.player_refs):\n",
    "            player_ref.set({\n",
    "                \"number\": player_num,\n",
    "                \"resources\": [],\n",
    "                \"cards\": []\n",
    "            })\n",
    "        \n",
    "        stack = [\"Ritter\"] * 14 + [\"Monopol\", \"Strassenbau\", \"Erfindung\"] * 2\n",
    "        stack += [\"Bibliothek\", \"Marktplatz\", \"Rathaus\", \"Kirche\", \"Universität\"]\n",
    "        random.shuffle(stack)\n",
    "        self.stack_ref.set(stack)\n",
    "        \n",
    "        first = random.randint(0, self.player_count - 1)\n",
    "        self.set_turn(first)\n",
    "        \n",
    "    \n",
    "    def set_turn(self, player_num, roll):\n",
    "        \n",
    "        self.current = player_num\n",
    "        self.turn_ref.set({'player': self.current, 'roll': roll})\n",
    "        \n",
    "        \n",
    "    def next_turn(self, roll, step=1):\n",
    "        \n",
    "        self.current = (self.current + step) % self.player_count\n",
    "        self.turn_ref.set({'player': self.current, 'roll': roll})\n",
    "        \n",
    "        \n",
    "    def next_roll(self):\n",
    "        \n",
    "        roll = random.randint(1, 6) + random.randint(1, 6)\n",
    "        self.next_turn(roll)\n",
    "        \n",
    "        \n",
    "    def transfer_resources(self, ):\n",
    "        \n",
    "        for player_num, amounts in changes.items():\n",
    "            for res_code, amount \n",
    "        \n",
    "        \n",
    "    def draw_card(self, player_num):\n",
    "        \n",
    "        stack = self.stack_ref.get()\n",
    "        player = self.player_refs[player_num].get()\n",
    "        card = stack.pop(0)\n",
    "        player['cards'].append(card)\n",
    "        self.stack_ref.set(stack)\n",
    "        self.player_refs[player_num].set(player)\n",
    "        \n",
    "        \n",
    "    def play_card(self, player_num, card):\n",
    "        \n",
    "        player = self.player_refs[player_num].get()\n",
    "        card_index = player['cards'].index(card)\n",
    "        if card_index == -1:\n",
    "            return\n",
    "        \n",
    "        for card == 'Ritter':\n",
    "            player['cards'][card_index] = \"Ritter (gespielt)\"\n",
    "        else:\n",
    "            player['cards'].pop(card_index)\n",
    "            \n",
    "        self.player_refs[player_num].set(player)\n",
    "        \n",
    "        \n",
    "    def update_resources(self, player_num, changes):\n",
    "        \n",
    "        player = self.player_refs[player_num].get()\n",
    "        for resource, amount in changes:\n",
    "            player['resources'][resource] += amount\n",
    "        self.player_refs[player_num].set(player)\n",
    "            \n",
    "            \n",
    "    def move_resources(self, giver_num, taker_num, give, take):\n",
    "        \n",
    "        unique_codes = set(give + take)\n",
    "        giver_changes = {c: 0 for c in unique_codes}\n",
    "        taker_changes = {c: 0 for c in unique_codes}\n",
    "        \n",
    "        for resource in give:\n",
    "            giver_changes[resource] -= 1\n",
    "            taker_changes[resource] += 1\n",
    "            \n",
    "        for res_code in take:\n",
    "            taker_changes[resource] -= 1\n",
    "            giver_changes[resource] += 1\n",
    "        \n",
    "        self.update_resources(giver_num, giver_changes)\n",
    "        self.update_resources(taker_num, taker_changes)\n",
    "        \n",
    "        \n",
    "    def steal_resource(self, dest_num, orig_num):\n",
    "        \n",
    "        orig = self.player_refs[orig_num].get()\n",
    "        if len(orig['resources']) > 0:\n",
    "            stolen = random.choice(orig['resources'])\n",
    "            self.move_resources(orig_num, dest_num, stolen, '')\n",
    "            \n",
    "            \n",
    "    def drop_resource(self, player_num):\n",
    "                \n",
    "        player = self.player_refs[player_num].get()\n",
    "        \n",
    "        over_count = len(player['resources']) - 7\n",
    "        if over_count < 1:\n",
    "            return\n",
    "        for resource in random.sample(player['resources'], over_count):\n",
    "            player['resources'].remove(resource)\n",
    "            \n",
    "        self.player_refs[player_num].set(player)\n",
    "        \n",
    "        \n",
    "    def buy(self, player_num, roads=0, towns=0, cities=0):\n",
    "        \n",
    "        costs = {\n",
    "            'Holz': roads + towns,\n",
    "            'Lehm': roads + towns,\n",
    "            'Weizen': towns + 2 * cities + cards,\n",
    "            'Schafe': towns + cards,\n",
    "            'Erz': 3 * cities + cards,\n",
    "        }\n",
    "        self.update_resources(player_num, costs)\n",
    "        \n",
    "        \n",
    "        \n",
    "        "
   ]
  },
  {
   "cell_type": "code",
   "execution_count": null,
   "id": "3b147a21-a46c-4a31-8329-7d9a99bc1b63",
   "metadata": {},
   "outputs": [],
   "source": []
  },
  {
   "cell_type": "markdown",
   "id": "36ad671c-991f-44dd-a508-7bc52e9afbaa",
   "metadata": {},
   "source": [
    "# Init"
   ]
  },
  {
   "cell_type": "code",
   "execution_count": 7,
   "id": "d7ccd3f4-48da-4a9b-92b7-666b89e0762d",
   "metadata": {},
   "outputs": [],
   "source": [
    "game = Game(['boss', 'rona', 'moin'])"
   ]
  },
  {
   "cell_type": "code",
   "execution_count": 7,
   "id": "c649f879-18a0-4c91-8306-8c953f55187a",
   "metadata": {},
   "outputs": [],
   "source": [
    "game.set_board([    \n",
    "\"                                 x           \",\n",
    "\"                              + = +          \",\n",
    "\"                            /     |          \",\n",
    "\"                   e  + - +   W   + - +      \",\n",
    "\"                    %     |   4 /     $ s    \",\n",
    "\"              + - +   L   + - +   H   + - +  \",\n",
    "\"            /     |   2 /     |   6 /     |  \",\n",
    "\"          +   S   + - +   H   + - +   W   +  \",\n",
    "\"          |   9 /     |   5 /     |   9 /    \",\n",
    "\"       w  + - +   L   + - +   S   + - +      \",\n",
    "\"        %     |   8 /  *  |  12 /     $ x    \",\n",
    "\"      +   H   + - +   X   + - +   S   +      \",\n",
    "\"      |   3 /     |     /     |   4 /        \",\n",
    "\"      + - +   E   + - +   E   + - +          \",\n",
    "\"    /     |   5 /     |   8 /     |          \",\n",
    "\"  +   W   + - +   L   + - +   S   +          \",\n",
    "\"x $   3 /     |  10 /     |  10 %            \",\n",
    "\"  + - +   W   + - +   H   + - +  x           \",\n",
    "\"      |   6 /     |  11 /                    \",\n",
    "\"      + = +   E   + = +                      \",\n",
    "\"       h  |  11 /  l                         \",\n",
    "\"          + - +                              \",\n",
    "\"                                             \"\n",
    "])"
   ]
  },
  {
   "cell_type": "markdown",
   "id": "8c33e8b0-2040-4572-98e5-83110f30b549",
   "metadata": {},
   "source": [
    "# Play"
   ]
  },
  {
   "cell_type": "code",
   "execution_count": 146,
   "id": "c20cdac7-f147-4cec-9595-4d1a577adb92",
   "metadata": {},
   "outputs": [],
   "source": [
    "game.initialize()"
   ]
  },
  {
   "cell_type": "code",
   "execution_count": 146,
   "id": "6a721402-e54a-487a-8415-d56e94b3c50a",
   "metadata": {},
   "outputs": [],
   "source": [
    "game.next_turn(None, 1)"
   ]
  },
  {
   "cell_type": "code",
   "execution_count": null,
   "id": "aeaae9ab-9d01-468b-b611-a6d9932d5a18",
   "metadata": {},
   "outputs": [],
   "source": [
    "game.next_turn(None, -1)"
   ]
  },
  {
   "cell_type": "code",
   "execution_count": 171,
   "id": "bfd01b1c-b754-4589-8799-3a6c17ccf1db",
   "metadata": {},
   "outputs": [],
   "source": [
    "game.roll_next()"
   ]
  },
  {
   "cell_type": "code",
   "execution_count": null,
   "id": "c95c8b0e-bcd7-4df7-8b04-cd0d23cf3c8d",
   "metadata": {},
   "outputs": [],
   "source": [
    "game.draw_card(0)"
   ]
  },
  {
   "cell_type": "code",
   "execution_count": null,
   "id": "eaf92f4b-d094-484b-bf3b-c1e0d26499aa",
   "metadata": {},
   "outputs": [],
   "source": [
    "game.play_card(0, \"Ritter\")"
   ]
  },
  {
   "cell_type": "code",
   "execution_count": null,
   "id": "1e019326-a482-41ee-83c7-2fbc4ae300f6",
   "metadata": {},
   "outputs": [],
   "source": [
    "game.steal_resource(0, 1)"
   ]
  },
  {
   "cell_type": "code",
   "execution_count": 172,
   "id": "218e1879-7f45-42bb-8646-d0cbd1adc1dc",
   "metadata": {},
   "outputs": [],
   "source": [
    "game.set_board([    \n",
    "\"                                 x           \",\n",
    "\"                              + = +          \",\n",
    "\"                            /     |          \",\n",
    "\"                   e  + -2+   W   + - +      \",\n",
    "\"                    %     |2  4 /     $ s    \",\n",
    "\"              + - +   L   + -2#2  H   + - +  \",\n",
    "\"            /     |   2 /     |   6 /     |  \",\n",
    "\"          +   S   + -0+0  H   + - +1  W   +  \",\n",
    "\"          |   9 /     |   5 /     |1  9 /    \",\n",
    "\"       w  + - +   L   + - +   S   + -1+1     \",\n",
    "\"        %     |   8 /     |  12 /1    $ x    \",\n",
    "\"      +   H   +0- +   X   + - +1  S   +      \",\n",
    "\"      |   3 /0    |     /     |1  4 /        \",\n",
    "\"      + - +   E   + - +   E   + - +          \",\n",
    "\"    /     |0  5 /     |   8 /1    |          \",\n",
    "\"  +   W   + - +2  L   #1- +   S   +          \",\n",
    "\"x $   3 /0 *  |2 10 /1    |  10 %            \",\n",
    "\"  + - +0  W   + - +   H   + - +  x           \",\n",
    "\"      |   6 /2    |  11 /                    \",\n",
    "\"      + = +2  E   + = +                      \",\n",
    "\"       h  |  11 /  l                         \",\n",
    "\"          + - +                              \",\n",
    "\"                                             \"\n",
    "])"
   ]
  },
  {
   "cell_type": "code",
   "execution_count": null,
   "id": "c9cea821-7b23-460a-b973-74c76ba640e0",
   "metadata": {},
   "outputs": [],
   "source": []
  }
 ],
 "metadata": {
  "kernelspec": {
   "display_name": "Python 3",
   "language": "python",
   "name": "python3"
  },
  "language_info": {
   "codemirror_mode": {
    "name": "ipython",
    "version": 3
   },
   "file_extension": ".py",
   "mimetype": "text/x-python",
   "name": "python",
   "nbconvert_exporter": "python",
   "pygments_lexer": "ipython3",
   "version": "3.8.8"
  }
 },
 "nbformat": 4,
 "nbformat_minor": 5
}
