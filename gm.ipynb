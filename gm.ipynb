{
 "cells": [
  {
   "cell_type": "code",
   "execution_count": 1,
   "id": "035aa2e3-2f18-4815-8c62-315541d180d8",
   "metadata": {},
   "outputs": [],
   "source": [
    "import random\n",
    "from firebase_admin import initialize_app, credentials, db"
   ]
  },
  {
   "cell_type": "code",
   "execution_count": 2,
   "id": "91d21aa9-7340-4ada-9ae6-74236bde10dc",
   "metadata": {},
   "outputs": [],
   "source": [
    "cred = credentials.Certificate('creds.json')"
   ]
  },
  {
   "cell_type": "code",
   "execution_count": 3,
   "id": "df563705-75d7-4bfb-870f-05843a67750a",
   "metadata": {},
   "outputs": [],
   "source": [
    "app = initialize_app(cred, {'databaseURL': \"https://calzan-default-rtdb.europe-west1.firebasedatabase.app/\"})"
   ]
  },
  {
   "cell_type": "code",
   "execution_count": 17,
   "id": "0f50541f-4dbf-431c-8833-5bf980298b74",
   "metadata": {},
   "outputs": [],
   "source": [
    "h = \"Holz\"\n",
    "l = \"Lehm\"\n",
    "g = \"Getreide\"\n",
    "w = \"Wolle\"\n",
    "e = \"Erz\"\n",
    "x = None"
   ]
  },
  {
   "cell_type": "code",
   "execution_count": 9,
   "id": "dc81ea00-b823-440d-990d-3ed65b436617",
   "metadata": {},
   "outputs": [
    {
     "data": {
      "text/plain": [
       "1859272767"
      ]
     },
     "execution_count": 9,
     "metadata": {},
     "output_type": "execute_result"
    }
   ],
   "source": [
    "seed = random.randrange(2 ** 32)\n",
    "seed"
   ]
  },
  {
   "cell_type": "code",
   "execution_count": 15,
   "id": "018bd1b0-bd9e-4b46-8608-4e88a96d20db",
   "metadata": {},
   "outputs": [],
   "source": [
    "players = ['Simon', 'Dave', 'Heiko', 'Niko']\n",
    "random.shuffle(players)"
   ]
  },
  {
   "cell_type": "code",
   "execution_count": 19,
   "id": "07dd1579-2be5-4db5-9df5-f20cb29575b7",
   "metadata": {},
   "outputs": [],
   "source": [
    "#ports = ['*', w, '*', e, '*', g, l, '*', h]\n",
    "db.reference(\"test/initial\").set({\n",
    "    'seed': seed,\n",
    "    'players': players,\n",
    "    'tiles':  [\n",
    "            h,  w,  w,\n",
    "          g,  e,  g,  h,\n",
    "        h,  l,  x,  e,  g,\n",
    "          g,  e,  h,  w,\n",
    "             l,  w,  l\n",
    "    ],\n",
    "    'rolls': [\n",
    "            6,  3,  8,\n",
    "          2,  4,  5, 10,\n",
    "        5,  9,  0,  6,  9,\n",
    "         10, 11,  3, 12,\n",
    "            8,  4, 11\n",
    "    ],\n",
    "})"
   ]
  },
  {
   "cell_type": "code",
   "execution_count": null,
   "id": "a96cd440-a602-405d-bf9a-a0a84c34c50b",
   "metadata": {},
   "outputs": [],
   "source": [
    "# shortcuts\n",
    "              \n",
    "def give(index, gains):\n",
    "    \n",
    "    resources = res_refs[index].get() or []\n",
    "    resources += gains\n",
    "    resources = sorted(resources, key=lambda r: resource_order[r])\n",
    "    res_refs[index].set(resources)\n",
    "    \n",
    "\n",
    "def take(index, costs):\n",
    "    \n",
    "    resources = res_refs[index].get()\n",
    "    for resource in costs:\n",
    "        resources.remove(resource)\n",
    "    res_refs[index].set(resources)\n",
    "    \n",
    "\n",
    "def draw():\n",
    "\n",
    "    take(current_index, [g, w, e])\n",
    "    \n",
    "    stack = stack_ref.get()\n",
    "    card_index = random.randrange(len(stack))\n",
    "    card = stack.pop(card_index)\n",
    "    stack_ref.set(stack)\n",
    "\n",
    "    cards = card_refs[current_index].get() or []\n",
    "    cards.append(card)\n",
    "    card_refs[current_index].set(cards)\n",
    "    \n",
    "    \n",
    "def bandit(row, col):\n",
    "\n",
    "    board = board_ref.get()\n",
    "    for r in range(row_count):\n",
    "        for c in range(col_count):\n",
    "            board[r][c]['bandit'] = r == row and c == col\n",
    "    board_ref.set(board)\n",
    "    \n",
    "    for index, res_ref in enumerate(res_refs):\n",
    "        resources = res_ref.get()\n",
    "        res_count = len(resources)\n",
    "        if len(resources) > 7:\n",
    "            name = player_names[index]\n",
    "            drop_count = res_count // 2\n",
    "            print(f\"{name} [{index}] must drop {drop_count} resources!\")\n",
    "    \n",
    "\n",
    "def steal(from_index):\n",
    "\n",
    "    resources = res_refs[from_index].get()\n",
    "    steal_index = random.randrange(len(resources))\n",
    "    resource = resources.pop(steal_index)\n",
    "    res_refs[from_index].set(resources)\n",
    "    \n",
    "    give(current_index, [resource])\n",
    "    \n",
    "    \n",
    "def knight(row, col, steal_index):\n",
    "    \n",
    "    cards = card_refs[current_index].get()\n",
    "    cards.remove(\"Ritter\")\n",
    "    cards.append(\"Ritter (gespielt)\")\n",
    "    card_refs[current_index].set(cards)\n",
    "    \n",
    "    knight_count = cards.count(\"Ritter (gespielt)\")\n",
    "    turn = turn_ref.get()\n",
    "    if knight_count > turn['maxKnightCount']:\n",
    "        turn['maxKnightCount'] = knight_count\n",
    "        turn['maxKnightIndex'] = current_index\n",
    "        turn_ref.set(turn)\n",
    "        \n",
    "    bandit(row, col)\n",
    "    steal(from_index)\n",
    "    \n",
    "    \n",
    "def build(row1, col1, row2, col2):\n",
    "\n",
    "    road(row1, col1)\n",
    "    road(row2, col2)\n",
    "    \n",
    "\n",
    "def mono(res):\n",
    "\n",
    "    gains = []\n",
    "    \n",
    "    for index, res_ref in enumerate(res_refs):\n",
    "        if index == current_index:\n",
    "            continue\n",
    "        resources = res_ref.get()\n",
    "        losses = [r for r in resources if r == res]\n",
    "        take(index, losses)\n",
    "        gains += losses\n",
    "        \n",
    "    give(current_index, gains)\n",
    "\n",
    "        \n",
    "def invent(res1, res2):\n",
    "    \n",
    "    give(current_index, [res1, res2])"
   ]
  }
 ],
 "metadata": {
  "kernelspec": {
   "display_name": "Python 3",
   "language": "python",
   "name": "python3"
  },
  "language_info": {
   "codemirror_mode": {
    "name": "ipython",
    "version": 3
   },
   "file_extension": ".py",
   "mimetype": "text/x-python",
   "name": "python",
   "nbconvert_exporter": "python",
   "pygments_lexer": "ipython3",
   "version": "3.8.8"
  }
 },
 "nbformat": 4,
 "nbformat_minor": 5
}
