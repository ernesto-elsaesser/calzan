{
 "cells": [
  {
   "cell_type": "code",
   "execution_count": 1,
   "id": "035aa2e3-2f18-4815-8c62-315541d180d8",
   "metadata": {},
   "outputs": [],
   "source": [
    "import random\n",
    "from firebase_admin import initialize_app, credentials, db"
   ]
  },
  {
   "cell_type": "code",
   "execution_count": 2,
   "id": "91d21aa9-7340-4ada-9ae6-74236bde10dc",
   "metadata": {},
   "outputs": [],
   "source": [
    "cred = credentials.Certificate('creds.json')"
   ]
  },
  {
   "cell_type": "code",
   "execution_count": 3,
   "id": "df563705-75d7-4bfb-870f-05843a67750a",
   "metadata": {},
   "outputs": [],
   "source": [
    "app = initialize_app(cred, {'databaseURL': \"https://calzan-default-rtdb.europe-west1.firebasedatabase.app/\"})"
   ]
  },
  {
   "cell_type": "code",
   "execution_count": null,
   "id": "f1b56829-5029-441b-a1ae-296d28dad051",
   "metadata": {},
   "outputs": [],
   "source": [
    "players = {'Simon': 'gruft', 'Dave': 'clutch', 'Heiko': 'milch', 'Niko': 'wow'}"
   ]
  },
  {
   "cell_type": "code",
   "execution_count": 14,
   "id": "53ec0d06-1378-441b-a608-ad3a30216c11",
   "metadata": {},
   "outputs": [],
   "source": [
    "turn_ref = db.reference(\"/turn\")\n",
    "board_ref = db.reference(\"/board\")\n",
    "stack_ref = db.reference(\"/stack\")\n",
    "players_ref = db.reference('/players/')"
   ]
  },
  {
   "cell_type": "code",
   "execution_count": 13,
   "id": "74a6058b-fdc6-4a61-93f6-b670252aae50",
   "metadata": {},
   "outputs": [
    {
     "data": {
      "text/plain": [
       "{'currentTurn': 1,\n",
       " 'longestRoadCount': 5,\n",
       " 'longestRoadPlayer': 1,\n",
       " 'maxKnightCount': 2,\n",
       " 'names': ['', 'Ernie', 'Bert']}"
      ]
     },
     "execution_count": 13,
     "metadata": {},
     "output_type": "execute_result"
    }
   ],
   "source": [
    "turn_ref.get()"
   ]
  },
  {
   "cell_type": "code",
   "execution_count": 32,
   "id": "7d211c4d-c6b2-4640-93c7-569e5c2eca39",
   "metadata": {},
   "outputs": [
    {
     "data": {
      "text/plain": [
       "{'clutch': {'name': 'Dave', 'number': 2},\n",
       " 'excel': {'name': 'Niko', 'number': 4},\n",
       " 'milch': {'name': 'Heiko', 'number': 3},\n",
       " 'rave': {'name': 'Simon', 'number': 1}}"
      ]
     },
     "execution_count": 32,
     "metadata": {},
     "output_type": "execute_result"
    }
   ],
   "source": [
    "players_ref.get()"
   ]
  },
  {
   "cell_type": "code",
   "execution_count": 10,
   "id": "ad141e29-ef3b-40a6-b2c3-0d98fc68aebe",
   "metadata": {},
   "outputs": [],
   "source": [
    "H = \"Holz\"\n",
    "L = \"Lehm\"\n",
    "G = \"Getreide\"\n",
    "W = \"Wolle\"\n",
    "E = \"Erz\"\n",
    "X = \"Wüste\"\n",
    "\n",
    "resources = [H, L, G, W, E]\n",
    "resource_order = {r: i for i, r in enumerate(resources)}"
   ]
  },
  {
   "cell_type": "code",
   "execution_count": 37,
   "id": "47872e0f-d31d-4b82-9618-3fe08510362d",
   "metadata": {},
   "outputs": [],
   "source": [
    "# init board\n",
    "tiles = [[H, W, W], [G, E, G, H], [H, L, X, E, G], [G, E, H, W], [L, W, L]]\n",
    "rolls = [[6, 3, 8], [2, 4, 5, 10], [5, 9, None, 6, 9], [10, 11, 3, 12], [8, 4, 11]]\n",
    "ports = ['*', W, '*', E, '*', G, L, '*', H]\n",
    "\n",
    "board = [[{'id': row * 100 + col} for col in range(21)] for row in range(11)]\n",
    "\n",
    "for r, ts in enumerate(tiles):\n",
    "    row = 1 + (r * 2)\n",
    "    pad = (1 + abs(r - 2)) * 2 \n",
    "    for c, tile in enumerate(ts):\n",
    "        col = pad + c * 4\n",
    "        board[row][col]['tile'] = tile\n",
    "        roll = rolls[r][c]\n",
    "        if roll is not None:\n",
    "            board[row][col]['roll'] = roll\n",
    "        else:\n",
    "            board[row][col]['bandit'] = True\n",
    "\n",
    "board[0][5]['port'] = ports[0]\n",
    "board[0][5]['face'] = 'NW'\n",
    "board[0][11]['port'] = ports[1]\n",
    "board[0][11]['face'] = 'NE'\n",
    "board[2][17]['port'] = ports[2]\n",
    "board[2][17]['face'] = 'NE'\n",
    "board[3][2]['port'] = ports[3]\n",
    "board[3][2]['face'] = 'W'\n",
    "board[5][20]['port'] = ports[4]\n",
    "board[5][20]['face'] = 'E'\n",
    "board[7][2]['port'] = ports[5]\n",
    "board[7][2]['face'] = 'W'\n",
    "board[8][17]['port'] = ports[6]\n",
    "board[8][17]['face'] = 'SE'\n",
    "board[10][5]['port'] = ports[7]\n",
    "board[10][5]['face'] = 'SW'\n",
    "board[10][11]['port'] = ports[8]\n",
    "board[10][11]['face'] = 'SE'\n",
    "\n",
    "board_ref.set(board)"
   ]
  },
  {
   "cell_type": "code",
   "execution_count": 38,
   "id": "c2782de2-1067-44ad-a204-38198b7b5bec",
   "metadata": {},
   "outputs": [],
   "source": [
    "# set players\n",
    "player_refs = [players_ref.child(k) for k in players.values()]\n",
    "res_refs = [r.child('resources') for r in player_refs]\n",
    "card_refs = [r.child('cards') for r in player_refs]\n",
    "player_count = len(players)"
   ]
  },
  {
   "cell_type": "code",
   "execution_count": 35,
   "id": "6036e304-f8a2-4065-a9e4-1e84846d50d1",
   "metadata": {},
   "outputs": [],
   "source": [
    "# init players\n",
    "player_data = {k: {\"name\": n, \"number\": i + 1} for i, (n, k) in enumerate(players.items())}\n",
    "players_ref.set(player_data) "
   ]
  },
  {
   "cell_type": "code",
   "execution_count": 9,
   "id": "ab938d61-60ad-4d5b-806c-bcb067c89d55",
   "metadata": {},
   "outputs": [],
   "source": [
    "# init cards\n",
    "stack = [\"Ritter\"] * 14 + [\"Monopol\", \"Strassenbau\", \"Erfindung\"] * 2\n",
    "stack += [\"Bibliothek\", \"Marktplatz\", \"Rathaus\", \"Kirche\", \"Universität\"]\n",
    "random.shuffle(stack)\n",
    "stack_ref.set(stack)"
   ]
  },
  {
   "cell_type": "code",
   "execution_count": 39,
   "id": "bba7db38-2880-4acd-a4fa-08540153ef09",
   "metadata": {},
   "outputs": [],
   "source": [
    "# init turn\n",
    "names = [\"\"] + list(players)\n",
    "first = random.randint(player_count)\n",
    "turn_ref.set({'names': names, 'currentTurn': first+1, 'maxKnightCount': 2})"
   ]
  },
  {
   "cell_type": "code",
   "execution_count": 106,
   "id": "ceeab3f8-fd0d-42e6-87ea-ab4f7f5d0021",
   "metadata": {},
   "outputs": [
    {
     "data": {
      "text/plain": [
       "1"
      ]
     },
     "execution_count": 106,
     "metadata": {},
     "output_type": "execute_result"
    }
   ],
   "source": [
    "current"
   ]
  },
  {
   "cell_type": "code",
   "execution_count": 108,
   "id": "e792b2f1-b1ab-4871-a661-5f80a95c6ea0",
   "metadata": {},
   "outputs": [],
   "source": [
    "current = SI"
   ]
  },
  {
   "cell_type": "code",
   "execution_count": null,
   "id": "86280301-dfc3-41cb-839b-1a80dd095cbd",
   "metadata": {},
   "outputs": [],
   "source": [
    "current = first + 1"
   ]
  },
  {
   "cell_type": "code",
   "execution_count": null,
   "id": "b2c264c3-6f2b-4d77-8952-17d002766d7d",
   "metadata": {},
   "outputs": [],
   "source": [
    "current += 1"
   ]
  },
  {
   "cell_type": "code",
   "execution_count": 67,
   "id": "f6fe95fb-10ef-4883-8069-ff85bfdfd8df",
   "metadata": {},
   "outputs": [],
   "source": [
    "current -= 1"
   ]
  },
  {
   "cell_type": "code",
   "execution_count": 73,
   "id": "ea3a84ce-06b2-4fa7-b89e-1c4d3bf541bc",
   "metadata": {},
   "outputs": [],
   "source": [
    "# next placement\n",
    "turn_ref.update({'currentTurn': current+1})"
   ]
  },
  {
   "cell_type": "code",
   "execution_count": 80,
   "id": "0a6807c0-531c-41da-920b-aa503665e13f",
   "metadata": {},
   "outputs": [],
   "source": [
    "# placement\n",
    "P = 2\n",
    "board = board_ref.get()\n",
    "board[8][12]['town'] = P\n",
    "board[9][12]['road'] = P\n",
    "board_ref.set(board)"
   ]
  },
  {
   "cell_type": "code",
   "execution_count": 109,
   "id": "0f3b4949-19ba-42b5-ae3c-3d8ca1a1f64e",
   "metadata": {},
   "outputs": [],
   "source": [
    "# next turn\n",
    "current = (current + 1) % player_count\n",
    "roll = random.randint(1, 6) + random.randint(1, 6)\n",
    "turn_ref.update({'currentTurn': current+1, 'roll': roll})"
   ]
  },
  {
   "cell_type": "code",
   "execution_count": 12,
   "id": "43e742f3-6180-4b1c-8e1c-5f6bba0d77a0",
   "metadata": {},
   "outputs": [],
   "source": [
    "# set longest road\n",
    "turn_ref.update({'longestRoadPlayer': 1, 'longestRoadCount': 5})"
   ]
  },
  {
   "cell_type": "code",
   "execution_count": 84,
   "id": "cca6ca0c-1e00-42f8-9090-429a9159fdfe",
   "metadata": {},
   "outputs": [],
   "source": [
    "res_refs[0].set([E, G])"
   ]
  },
  {
   "cell_type": "code",
   "execution_count": 85,
   "id": "d687ffd8-8514-4d00-a614-bcdc966597b1",
   "metadata": {},
   "outputs": [],
   "source": [
    "resources = sorted([H, W, L], key=lambda r: resource_order[r])\n",
    "res_refs[1].set(resources)"
   ]
  },
  {
   "cell_type": "code",
   "execution_count": 88,
   "id": "01c3e308-9cd5-48e9-92bd-6d3d2200adfe",
   "metadata": {},
   "outputs": [],
   "source": [
    "resources = sorted([H, W, E], key=lambda r: resource_order[r])\n",
    "res_refs[3].set(resources)"
   ]
  },
  {
   "cell_type": "code",
   "execution_count": 103,
   "id": "01be9079-3ef6-49d0-8039-acc35be2708a",
   "metadata": {},
   "outputs": [],
   "source": [
    "SI = 0\n",
    "DA = 1\n",
    "HE = 2\n",
    "NI = 3"
   ]
  },
  {
   "cell_type": "code",
   "execution_count": 104,
   "id": "4cec89a0-58e0-4f6a-a1af-532f1edcd11c",
   "metadata": {},
   "outputs": [
    {
     "data": {
      "text/plain": [
       "['Holz', 'Holz', 'Wolle', 'Erz']"
      ]
     },
     "execution_count": 104,
     "metadata": {},
     "output_type": "execute_result"
    }
   ],
   "source": [
    "resources = res_refs[NI].get()\n",
    "resources.append(H)\n",
    "resources = sorted(resources, key=lambda r: resource_order[r])\n",
    "res_refs[NI].set(resources)\n",
    "resources"
   ]
  },
  {
   "cell_type": "code",
   "execution_count": 105,
   "id": "9cb0d54e-2298-422f-aaf9-99cd32ed84fa",
   "metadata": {},
   "outputs": [
    {
     "data": {
      "text/plain": [
       "{'clutch': {'name': 'Dave',\n",
       "  'number': 2,\n",
       "  'resources': ['Holz', 'Lehm', 'Wolle', 'Erz']},\n",
       " 'excel': {'name': 'Niko', 'number': 4},\n",
       " 'gruft': {'name': 'Simon',\n",
       "  'number': 1,\n",
       "  'resources': ['Getreide', 'Erz', 'Erz']},\n",
       " 'milch': {'name': 'Heiko',\n",
       "  'number': 3,\n",
       "  'resources': ['Holz', 'Wolle', 'Erz', 'Erz']},\n",
       " 'wow': {'resources': ['Holz', 'Holz', 'Wolle', 'Erz']}}"
      ]
     },
     "execution_count": 105,
     "metadata": {},
     "output_type": "execute_result"
    }
   ],
   "source": [
    "players_ref.get()"
   ]
  },
  {
   "cell_type": "code",
   "execution_count": 113,
   "id": "415b8c01-d8c8-4eb7-993f-a191b0f30e4e",
   "metadata": {},
   "outputs": [],
   "source": [
    "# placement\n",
    "board = board_ref.get()\n",
    "board[5][10]['bandit'] = None\n",
    "board[3][4]['bandit'] = True\n",
    "board_ref.set(board)"
   ]
  },
  {
   "cell_type": "code",
   "execution_count": 9,
   "id": "5b726eca-39c2-4b9b-bf28-4fed71cf7af1",
   "metadata": {},
   "outputs": [],
   "source": [
    "player['cards'].remove(card)\n",
    "player['cards'] += gained_cards\n",
    "\n",
    "    if \"Ritter (gespielt)\" in gained_cards:\n",
    "        knight_count = player['cards'].count(\"Ritter (gespielt)\")\n",
    "        turn = self.turn_ref.get()\n",
    "        if knight_count > turn['maxKnightPlayer']:\n",
    "            turn['maxKnightCount'] = knight_count\n",
    "            turn['maxKnightPlayer'] = player_num\n",
    "            self.turn_ref.set(turn)\n",
    "\n",
    "player_refs[p].update(player)\n",
    "\n",
    "\n",
    "\n",
    "def trade_resources(self, giver_num, taker_num, give, take):\n",
    "\n",
    "    self.update_player(giver_num, gains=take, losses=give)\n",
    "    self.update_player(taker_num, gains=give, losses=take)\n",
    "\n",
    "\n",
    "def steal_resource(self, dest_num, orig_num):\n",
    "\n",
    "    orig = self.player_refs[orig_num].get()\n",
    "    if len(orig['resources']) == 0:\n",
    "        return\n",
    "    resource = random.choice(orig['resources'])\n",
    "    self.update_player(orig_num, losses=[resource])\n",
    "    self.update_player(dest_num, gains=[resource])\n",
    "\n",
    "\n",
    "def check_bandit(self):\n",
    "\n",
    "    # TODO select which resources?\n",
    "    for player_num, player_ref in self.player_refs:\n",
    "\n",
    "        player = player_ref.get()\n",
    "        over_count = len(player['resources']) - 7\n",
    "        if over_count > 0:\n",
    "            losses = random.sample(player['resources'], over_count)\n",
    "            self.update_player(player_num, losses=losses)\n",
    "\n",
    "\n",
    "def buy(self, player_num, roads=0, towns=0, cities=0, cards=0):\n",
    "\n",
    "    costs = [H, L] * roads + [H, L, G, W] * towns + [G, G, E, E, E] * cities + [G, W, E] * cards\n",
    "\n",
    "    drawn_cards = None\n",
    "    if cards > 0:\n",
    "        stack = self.stack_ref.get()\n",
    "        drawn_cards = stack[:cards]\n",
    "        self.stack_ref.set(stack[cards:])\n",
    "\n",
    "    self.update_player(player_num, losses=costs, gained_cards=drawn_cards)\n",
    "\n",
    "\n",
    "def move_bandit(self, bid):\n",
    "\n",
    "    board = self.board_ref.get()\n",
    "    prev_cell = [c for r in board for c in r if 'bandit' in c][0]\n",
    "\n",
    "    self.set_cell_attribute(prev_cell['id'], 'bandit', None)\n",
    "    self.set_cell_attribute(bid, 'bandit', True)\n",
    "\n",
    "\n",
    "def build_road(self, player_num, bid):\n",
    "\n",
    "    self.set_cell_attribute(bid, 'road', player_num)\n",
    "\n",
    "\n",
    "def build_town(self, player_num, bid):\n",
    "\n",
    "    self.set_cell_attribute(bid, 'town', player_num)\n",
    "\n",
    "\n",
    "def upgrade_town(self, bid):\n",
    "\n",
    "    self.set_cell_attribute(bid, 'city', True)\n",
    "\n",
    "\n",
    "def play_card(self, player_num, card, param=None):\n",
    "\n",
    "    gains = None\n",
    "    gained_cards = None\n",
    "\n",
    "    if card == 'Ritter':\n",
    "        gained_cards = [\"Ritter (gespielt)\"]\n",
    "\n",
    "    elif card == 'Strassenbau':\n",
    "        # TODO: grant 2 streets?\n",
    "        pass\n",
    "\n",
    "    elif card == 'Monopol':\n",
    "\n",
    "        gains = []\n",
    "        for other_num, player_ref in enumerate(self.player_refs):\n",
    "            if other_num == player_num:\n",
    "                continue\n",
    "            other = self.player_refs[other_num].get()\n",
    "            losses = [r for r in other['resources'] if r == param]\n",
    "            gains += losses\n",
    "            self.update_player(other_num, losses=losses)\n",
    "\n",
    "    elif card == 'Erfindung':\n",
    "\n",
    "        gains = params\n",
    "\n",
    "    else:\n",
    "        return\n",
    "\n",
    "    self.update_player(player_num, gains=param, gained_cars=gained_cards, lost_cards=[card])"
   ]
  },
  {
   "cell_type": "markdown",
   "id": "36ad671c-991f-44dd-a508-7bc52e9afbaa",
   "metadata": {},
   "source": [
    "# Init"
   ]
  },
  {
   "cell_type": "code",
   "execution_count": 8,
   "id": "d7ccd3f4-48da-4a9b-92b7-666b89e0762d",
   "metadata": {},
   "outputs": [],
   "source": [
    "game = Game({'Ernie': 'kek', 'Bert': 'lel'})"
   ]
  },
  {
   "cell_type": "code",
   "execution_count": null,
   "id": "1eec44cb-b272-47f1-adc5-7ca56fbd3c46",
   "metadata": {},
   "outputs": [],
   "source": [
    "tiles = [[H, W, W], [G, E, G, H], [H, L, X, E, G], [G, E, H, W], [L, W, L]]\n",
    "rolls = [[6, 3, 8], [2, 4, 5, 10], [5, 9, None, 6, 9], [10, 11, 3, 12], [8, 4, 11]]\n",
    "ports = ['*', W, '*', E, '*', G, L, '*', H]"
   ]
  },
  {
   "cell_type": "code",
   "execution_count": null,
   "id": "5d9e92fe-d382-4d02-8665-856ad775bf92",
   "metadata": {},
   "outputs": [],
   "source": [
    "game.init_board(tiles, rolls, ports)"
   ]
  },
  {
   "cell_type": "code",
   "execution_count": null,
   "id": "c20cdac7-f147-4cec-9595-4d1a577adb92",
   "metadata": {},
   "outputs": [],
   "source": [
    "game.initialize()"
   ]
  },
  {
   "cell_type": "raw",
   "id": "15cb91a2-f2c3-4bd6-8b13-bfd8367411bd",
   "metadata": {},
   "source": [
    "     0         1\n",
    "     0123456789012345678\n",
    " 000      / \\ / \\ / \\\n",
    " 100     | H | W | W |\n",
    " 200    / \\ / \\ / \\ / \\ \n",
    " 300   | G | E | G | H |\n",
    " 400  / \\ / \\ / \\ / \\ / \\ \n",
    " 500 | H | L |   | E | G |\n",
    " 600  \\ / \\ / \\ / \\ / \\ /\n",
    " 700   | G | E | H | W |\n",
    " 800    \\ / \\ / \\ / \\ /\n",
    " 900     | L | W | L |\n",
    "1000      \\ / \\ / \\ / "
   ]
  },
  {
   "cell_type": "markdown",
   "id": "8c33e8b0-2040-4572-98e5-83110f30b549",
   "metadata": {},
   "source": [
    "# Play"
   ]
  },
  {
   "cell_type": "code",
   "execution_count": null,
   "id": "6a721402-e54a-487a-8415-d56e94b3c50a",
   "metadata": {},
   "outputs": [],
   "source": [
    "game.next_turn(None, 1)"
   ]
  },
  {
   "cell_type": "code",
   "execution_count": null,
   "id": "aeaae9ab-9d01-468b-b611-a6d9932d5a18",
   "metadata": {},
   "outputs": [],
   "source": [
    "game.next_turn(None, -1)"
   ]
  },
  {
   "cell_type": "code",
   "execution_count": null,
   "id": "bfd01b1c-b754-4589-8799-3a6c17ccf1db",
   "metadata": {},
   "outputs": [],
   "source": [
    "game.roll_next()"
   ]
  },
  {
   "cell_type": "code",
   "execution_count": null,
   "id": "ad654eab-b3c4-4cd1-8fac-ee38d8dad656",
   "metadata": {},
   "outputs": [],
   "source": [
    "game.grant_resources(1, "
   ]
  },
  {
   "cell_type": "code",
   "execution_count": null,
   "id": "ed337eff-3ac5-4cd1-8b6d-360c33522b20",
   "metadata": {},
   "outputs": [],
   "source": [
    "game.buy(0, roads=2)"
   ]
  },
  {
   "cell_type": "code",
   "execution_count": null,
   "id": "7f38761e-9369-491f-b816-60fd121a9bef",
   "metadata": {},
   "outputs": [],
   "source": [
    "game.build_road(1, 508)"
   ]
  },
  {
   "cell_type": "code",
   "execution_count": null,
   "id": "c457ab3e-2d29-46df-a78a-3d1121c59483",
   "metadata": {},
   "outputs": [],
   "source": [
    "game.build_town(1, 406)"
   ]
  },
  {
   "cell_type": "code",
   "execution_count": null,
   "id": "6e4e0d1f-8697-41e1-846a-540cd830e357",
   "metadata": {},
   "outputs": [],
   "source": [
    "game.build_city(406)"
   ]
  },
  {
   "cell_type": "code",
   "execution_count": null,
   "id": "c95c8b0e-bcd7-4df7-8b04-cd0d23cf3c8d",
   "metadata": {},
   "outputs": [],
   "source": [
    "game.draw_card(0)"
   ]
  },
  {
   "cell_type": "code",
   "execution_count": null,
   "id": "eaf92f4b-d094-484b-bf3b-c1e0d26499aa",
   "metadata": {},
   "outputs": [],
   "source": [
    "game.play_card(0, \"Ritter\")"
   ]
  },
  {
   "cell_type": "code",
   "execution_count": null,
   "id": "d3789369-cc17-47bf-b904-7542780f40c4",
   "metadata": {},
   "outputs": [],
   "source": [
    "game.move_bandit(506)"
   ]
  },
  {
   "cell_type": "code",
   "execution_count": null,
   "id": "c7427180-40bf-47ea-a0e3-2e578550a78d",
   "metadata": {},
   "outputs": [],
   "source": [
    "game.steal_resource(0, 1)"
   ]
  },
  {
   "cell_type": "code",
   "execution_count": null,
   "id": "c69ae518-be6d-4cfc-a7b2-f4d44a070686",
   "metadata": {},
   "outputs": [],
   "source": [
    "game.check_bandit()"
   ]
  },
  {
   "cell_type": "code",
   "execution_count": null,
   "id": "a16b5832-5380-4b20-9cbe-4b3659bfbda9",
   "metadata": {},
   "outputs": [],
   "source": [
    "game.set_longest_road(0, 5)"
   ]
  },
  {
   "cell_type": "code",
   "execution_count": null,
   "id": "c9cea821-7b23-460a-b973-74c76ba640e0",
   "metadata": {},
   "outputs": [],
   "source": []
  },
  {
   "cell_type": "markdown",
   "id": "847dde51-939b-41ef-a96a-c69cd87cea74",
   "metadata": {},
   "source": [
    "Fix:\n",
    "- Gelb Kontrast\n",
    "- Reihenfolge"
   ]
  }
 ],
 "metadata": {
  "kernelspec": {
   "display_name": "Python 3",
   "language": "python",
   "name": "python3"
  },
  "language_info": {
   "codemirror_mode": {
    "name": "ipython",
    "version": 3
   },
   "file_extension": ".py",
   "mimetype": "text/x-python",
   "name": "python",
   "nbconvert_exporter": "python",
   "pygments_lexer": "ipython3",
   "version": "3.8.8"
  }
 },
 "nbformat": 4,
 "nbformat_minor": 5
}
