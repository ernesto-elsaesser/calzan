{
 "cells": [
  {
   "cell_type": "code",
   "execution_count": 1,
   "id": "035aa2e3-2f18-4815-8c62-315541d180d8",
   "metadata": {},
   "outputs": [],
   "source": [
    "import random\n",
    "from firebase_admin import initialize_app, credentials, db"
   ]
  },
  {
   "cell_type": "code",
   "execution_count": 2,
   "id": "91d21aa9-7340-4ada-9ae6-74236bde10dc",
   "metadata": {},
   "outputs": [],
   "source": [
    "cred = credentials.Certificate('creds.json')"
   ]
  },
  {
   "cell_type": "code",
   "execution_count": 3,
   "id": "df563705-75d7-4bfb-870f-05843a67750a",
   "metadata": {},
   "outputs": [],
   "source": [
    "app = initialize_app(cred, {'databaseURL': \"https://calzan-default-rtdb.europe-west1.firebasedatabase.app/\"})"
   ]
  },
  {
   "cell_type": "code",
   "execution_count": 17,
   "id": "0f50541f-4dbf-431c-8833-5bf980298b74",
   "metadata": {},
   "outputs": [],
   "source": [
    "h = \"Holz\"\n",
    "l = \"Lehm\"\n",
    "g = \"Getreide\"\n",
    "w = \"Wolle\"\n",
    "e = \"Erz\""
   ]
  },
  {
   "cell_type": "code",
   "execution_count": 9,
   "id": "dc81ea00-b823-440d-990d-3ed65b436617",
   "metadata": {},
   "outputs": [
    {
     "data": {
      "text/plain": [
       "1859272767"
      ]
     },
     "execution_count": 9,
     "metadata": {},
     "output_type": "execute_result"
    }
   ],
   "source": [
    "seed = random.randrange(2 ** 32)\n",
    "seed"
   ]
  },
  {
   "cell_type": "code",
   "execution_count": 15,
   "id": "018bd1b0-bd9e-4b46-8608-4e88a96d20db",
   "metadata": {},
   "outputs": [],
   "source": [
    "players = ['Simon', 'Dave', 'Heiko', 'Niko']\n",
    "random.shuffle(players)"
   ]
  },
  {
   "cell_type": "code",
   "execution_count": 18,
   "id": "07dd1579-2be5-4db5-9df5-f20cb29575b7",
   "metadata": {},
   "outputs": [],
   "source": [
    "#ports = ['*', w, '*', e, '*', g, l, '*', h]\n",
    "db.reference(\"test/initial\").set({\n",
    "    'seed': seed,\n",
    "    'players': players,\n",
    "    'tiles':  [[h, w, w], [g, e, g, h], [h, l, None, e, g], [g, e, h, w], [l, w, l]],\n",
    "    'rolls': [[6, 3, 8], [2, 4, 5, 10], [5, 9, None, 6, 9], [10, 11, 3, 12], [8, 4, 11]],\n",
    "})"
   ]
  },
  {
   "cell_type": "code",
   "execution_count": null,
   "id": "a96cd440-a602-405d-bf9a-a0a84c34c50b",
   "metadata": {},
   "outputs": [],
   "source": [
    "# shortcuts\n",
    "\n",
    "def info():\n",
    "    \n",
    "    infos = players_ref.get()\n",
    "    for info in infos.values():\n",
    "        name = player_names[info['index']]\n",
    "        resources = ' '.join(info.get('resources', []))\n",
    "        cards = ' '.join(info.get('cards', []))\n",
    "        print(f\"{name}: {resources} | {cards}\")\n",
    "        \n",
    "              \n",
    "def give(index, gains):\n",
    "    \n",
    "    resources = res_refs[index].get() or []\n",
    "    resources += gains\n",
    "    resources = sorted(resources, key=lambda r: resource_order[r])\n",
    "    res_refs[index].set(resources)\n",
    "    \n",
    "\n",
    "def take(index, costs):\n",
    "    \n",
    "    resources = res_refs[index].get()\n",
    "    for resource in costs:\n",
    "        resources.remove(resource)\n",
    "    res_refs[index].set(resources)\n",
    "    \n",
    "    \n",
    "def place(row, col, key, value):\n",
    "    \n",
    "    board = board_ref.get()\n",
    "    board[row][col][key] = value\n",
    "    board_ref.set(board)\n",
    "    \n",
    "    \n",
    "def start(row, col, drow, dcol):\n",
    "    \n",
    "    place(row, col, 'town', current_index)\n",
    "    place(row + drow, col + dcol, 'road', current_index)\n",
    "    \n",
    "    # TODO grant resources!\n",
    "    \n",
    "\n",
    "def road(row, col):\n",
    "\n",
    "    take(current_index, [h, l])\n",
    "    place(row, col, 'road', current_index)\n",
    "    \n",
    "\n",
    "def town(row, col):\n",
    "\n",
    "    take(current_index, [h, l, g, w])\n",
    "    place(row, col, 'town', current_index)\n",
    "    \n",
    "\n",
    "def city(row, col):\n",
    "\n",
    "    take(current_index, [g, g, e, e, e])\n",
    "    place(row, col, 'city', True)\n",
    "    \n",
    "\n",
    "def draw():\n",
    "\n",
    "    take(current_index, [g, w, e])\n",
    "    \n",
    "    stack = stack_ref.get()\n",
    "    card_index = random.randrange(len(stack))\n",
    "    card = stack.pop(card_index)\n",
    "    stack_ref.set(stack)\n",
    "\n",
    "    cards = card_refs[current_index].get() or []\n",
    "    cards.append(card)\n",
    "    card_refs[current_index].set(cards)\n",
    "    \n",
    "    \n",
    "def bandit(row, col):\n",
    "\n",
    "    board = board_ref.get()\n",
    "    for r in range(row_count):\n",
    "        for c in range(col_count):\n",
    "            board[r][c]['bandit'] = r == row and c == col\n",
    "    board_ref.set(board)\n",
    "    \n",
    "    for index, res_ref in enumerate(res_refs):\n",
    "        resources = res_ref.get()\n",
    "        res_count = len(resources)\n",
    "        if len(resources) > 7:\n",
    "            name = player_names[index]\n",
    "            drop_count = res_count // 2\n",
    "            print(f\"{name} [{index}] must drop {drop_count} resources!\")\n",
    "    \n",
    "\n",
    "def steal(from_index):\n",
    "\n",
    "    resources = res_refs[from_index].get()\n",
    "    steal_index = random.randrange(len(resources))\n",
    "    resource = resources.pop(steal_index)\n",
    "    res_refs[from_index].set(resources)\n",
    "    \n",
    "    give(current_index, [resource])\n",
    "    \n",
    "    \n",
    "def knight(row, col, steal_index):\n",
    "    \n",
    "    cards = card_refs[current_index].get()\n",
    "    cards.remove(\"Ritter\")\n",
    "    cards.append(\"Ritter (gespielt)\")\n",
    "    card_refs[current_index].set(cards)\n",
    "    \n",
    "    knight_count = cards.count(\"Ritter (gespielt)\")\n",
    "    turn = turn_ref.get()\n",
    "    if knight_count > turn['maxKnightCount']:\n",
    "        turn['maxKnightCount'] = knight_count\n",
    "        turn['maxKnightIndex'] = current_index\n",
    "        turn_ref.set(turn)\n",
    "        \n",
    "    bandit(row, col)\n",
    "    steal(from_index)\n",
    "    \n",
    "    \n",
    "def build(row1, col1, row2, col2):\n",
    "\n",
    "    road(row1, col1)\n",
    "    road(row2, col2)\n",
    "    \n",
    "\n",
    "def mono(res):\n",
    "\n",
    "    gains = []\n",
    "    \n",
    "    for index, res_ref in enumerate(res_refs):\n",
    "        if index == current_index:\n",
    "            continue\n",
    "        resources = res_ref.get()\n",
    "        losses = [r for r in resources if r == res]\n",
    "        take(index, losses)\n",
    "        gains += losses\n",
    "        \n",
    "    give(current_index, gains)\n",
    "\n",
    "        \n",
    "def invent(res1, res2):\n",
    "    \n",
    "    give(current_index, [res1, res2])"
   ]
  },
  {
   "cell_type": "code",
   "execution_count": null,
   "id": "01be9079-3ef6-49d0-8039-acc35be2708a",
   "metadata": {},
   "outputs": [],
   "source": [
    "S = 0\n",
    "D = 1\n",
    "H = 2\n",
    "N = 3"
   ]
  },
  {
   "cell_type": "code",
   "execution_count": null,
   "id": "b2c264c3-6f2b-4d77-8952-17d002766d7d",
   "metadata": {},
   "outputs": [],
   "source": [
    "current_index = (current_index + 1) % player_count"
   ]
  },
  {
   "cell_type": "code",
   "execution_count": null,
   "id": "f6fe95fb-10ef-4883-8069-ff85bfdfd8df",
   "metadata": {},
   "outputs": [],
   "source": [
    "current_index = (current_index - 1) % player_count"
   ]
  },
  {
   "cell_type": "code",
   "execution_count": null,
   "id": "ea3a84ce-06b2-4fa7-b89e-1c4d3bf541bc",
   "metadata": {},
   "outputs": [],
   "source": [
    "turn_ref.update({'index': current_index})"
   ]
  },
  {
   "cell_type": "code",
   "execution_count": null,
   "id": "0f3b4949-19ba-42b5-ae3c-3d8ca1a1f64e",
   "metadata": {},
   "outputs": [],
   "source": [
    "turn_ref.update({'index': current_index, 'roll': random.randint(1, 6) + random.randint(1, 6)})"
   ]
  },
  {
   "cell_type": "code",
   "execution_count": null,
   "id": "86280301-dfc3-41cb-839b-1a80dd095cbd",
   "metadata": {},
   "outputs": [],
   "source": [
    "current_index = first_index + 1"
   ]
  },
  {
   "cell_type": "code",
   "execution_count": null,
   "id": "22ba0100-c814-4d80-a5a5-776ded22c2be",
   "metadata": {},
   "outputs": [],
   "source": [
    "start(2, 8, -1, 0)"
   ]
  },
  {
   "cell_type": "code",
   "execution_count": null,
   "id": "738d65c5-5d5f-4eaf-91d9-0d3845d41cf8",
   "metadata": {},
   "outputs": [],
   "source": [
    "start(2, 14, 0, -1)"
   ]
  },
  {
   "cell_type": "code",
   "execution_count": null,
   "id": "a8570892-e63f-416c-b9b0-03922b28815f",
   "metadata": {},
   "outputs": [],
   "source": [
    "start(8, 10, 0, 1)"
   ]
  },
  {
   "cell_type": "code",
   "execution_count": null,
   "id": "01c3e308-9cd5-48e9-92bd-6d3d2200adfe",
   "metadata": {},
   "outputs": [],
   "source": [
    "give(H, [g, w, e])"
   ]
  },
  {
   "cell_type": "code",
   "execution_count": null,
   "id": "0a6807c0-531c-41da-920b-aa503665e13f",
   "metadata": {},
   "outputs": [],
   "source": [
    "town(6, 16)"
   ]
  },
  {
   "cell_type": "code",
   "execution_count": null,
   "id": "faa3a689-783c-41cc-8dd3-73fcd60606f7",
   "metadata": {},
   "outputs": [],
   "source": [
    "road(2, 9)"
   ]
  },
  {
   "cell_type": "code",
   "execution_count": null,
   "id": "120f8797-cc5c-43b8-a0a4-252510c05540",
   "metadata": {},
   "outputs": [],
   "source": [
    "draw()"
   ]
  },
  {
   "cell_type": "code",
   "execution_count": null,
   "id": "34117a37-c6a0-41d0-956b-153ba90d8930",
   "metadata": {},
   "outputs": [],
   "source": [
    "info()"
   ]
  },
  {
   "cell_type": "code",
   "execution_count": null,
   "id": "43e742f3-6180-4b1c-8e1c-5f6bba0d77a0",
   "metadata": {},
   "outputs": [],
   "source": [
    "turn_ref.update({'longestRoadIndex': current_index, 'longestRoadCount': 5})"
   ]
  },
  {
   "cell_type": "markdown",
   "id": "847dde51-939b-41ef-a96a-c69cd87cea74",
   "metadata": {},
   "source": [
    "Fix:\n",
    "- backend\n",
    "    - trade functions\n",
    "    - bandit loss communicate\n",
    "    - roll resource automation!\n",
    "- frontend\n",
    "    - knight count in header?\n",
    "    - Gelb Kontrast!"
   ]
  }
 ],
 "metadata": {
  "kernelspec": {
   "display_name": "Python 3",
   "language": "python",
   "name": "python3"
  },
  "language_info": {
   "codemirror_mode": {
    "name": "ipython",
    "version": 3
   },
   "file_extension": ".py",
   "mimetype": "text/x-python",
   "name": "python",
   "nbconvert_exporter": "python",
   "pygments_lexer": "ipython3",
   "version": "3.8.8"
  }
 },
 "nbformat": 4,
 "nbformat_minor": 5
}
