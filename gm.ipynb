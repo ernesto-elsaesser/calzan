{
 "cells": [
  {
   "cell_type": "code",
   "execution_count": 3,
   "id": "035aa2e3-2f18-4815-8c62-315541d180d8",
   "metadata": {},
   "outputs": [],
   "source": [
    "import random\n",
    "from firebase_admin import initialize_app, credentials, db"
   ]
  },
  {
   "cell_type": "code",
   "execution_count": 1,
   "id": "d6ff129b-7cd3-4143-86d0-f0e25621269f",
   "metadata": {},
   "outputs": [],
   "source": [
    "import json"
   ]
  },
  {
   "cell_type": "code",
   "execution_count": 4,
   "id": "91d21aa9-7340-4ada-9ae6-74236bde10dc",
   "metadata": {},
   "outputs": [],
   "source": [
    "cred = credentials.Certificate('creds.json')"
   ]
  },
  {
   "cell_type": "code",
   "execution_count": 5,
   "id": "df563705-75d7-4bfb-870f-05843a67750a",
   "metadata": {},
   "outputs": [],
   "source": [
    "app = initialize_app(cred, {'databaseURL': \"https://calzan-default-rtdb.europe-west1.firebasedatabase.app/\"})"
   ]
  },
  {
   "cell_type": "code",
   "execution_count": 6,
   "id": "dc81ea00-b823-440d-990d-3ed65b436617",
   "metadata": {
    "tags": []
   },
   "outputs": [
    {
     "data": {
      "text/plain": [
       "3489313612"
      ]
     },
     "execution_count": 6,
     "metadata": {},
     "output_type": "execute_result"
    }
   ],
   "source": [
    "seed = random.randrange(2 ** 32)\n",
    "seed"
   ]
  },
  {
   "cell_type": "code",
   "execution_count": 7,
   "id": "018bd1b0-bd9e-4b46-8608-4e88a96d20db",
   "metadata": {},
   "outputs": [],
   "source": [
    "players = [\"A\", \"B\", \"C\"]\n",
    "random.shuffle(players)"
   ]
  },
  {
   "cell_type": "code",
   "execution_count": 2,
   "id": "6a190786-ea23-4745-be5b-c631a4a07173",
   "metadata": {},
   "outputs": [],
   "source": [
    "with open(\"board.json\") as json_file:\n",
    "    board = json.load(json_file)"
   ]
  },
  {
   "cell_type": "code",
   "execution_count": 8,
   "id": "07dd1579-2be5-4db5-9df5-f20cb29575b7",
   "metadata": {},
   "outputs": [],
   "source": [
    "db.reference(\"test/initial\").set({\n",
    "    'seed': seed,\n",
    "    'players': players,\n",
    "    'board': board,\n",
    "})"
   ]
  },
  {
   "cell_type": "code",
   "execution_count": null,
   "id": "a96cd440-a602-405d-bf9a-a0a84c34c50b",
   "metadata": {},
   "outputs": [],
   "source": [
    "\n",
    "def bandit(row, col):\n",
    "\n",
    "    board = board_ref.get()\n",
    "    for r in range(row_count):\n",
    "        for c in range(col_count):\n",
    "            board[r][c]['bandit'] = r == row and c == col\n",
    "    board_ref.set(board)\n",
    "    \n",
    "    for index, res_ref in enumerate(res_refs):\n",
    "        resources = res_ref.get()\n",
    "        res_count = len(resources)\n",
    "        if len(resources) > 7:\n",
    "            name = player_names[index]\n",
    "            drop_count = res_count // 2\n",
    "            print(f\"{name} [{index}] must drop {drop_count} resources!\")\n",
    "    \n",
    "\n",
    "def steal(from_index):\n",
    "\n",
    "    resources = res_refs[from_index].get()\n",
    "    steal_index = random.randrange(len(resources))\n",
    "    resource = resources.pop(steal_index)\n",
    "    res_refs[from_index].set(resources)\n",
    "    \n",
    "    give(current_index, [resource])\n",
    "    \n",
    "    \n",
    "def knight(row, col, steal_index):\n",
    "    \n",
    "    cards = card_refs[current_index].get()\n",
    "    cards.remove(\"Ritter\")\n",
    "    cards.append(\"Ritter (gespielt)\")\n",
    "    card_refs[current_index].set(cards)\n",
    "    \n",
    "    knight_count = cards.count(\"Ritter (gespielt)\")\n",
    "    turn = turn_ref.get()\n",
    "    if knight_count > turn['maxKnightCount']:\n",
    "        turn['maxKnightCount'] = knight_count\n",
    "        turn['maxKnightIndex'] = current_index\n",
    "        turn_ref.set(turn)\n",
    "        \n",
    "    bandit(row, col)\n",
    "    steal(from_index)\n",
    "    \n",
    "    \n",
    "def build(row1, col1, row2, col2):\n",
    "\n",
    "    road(row1, col1)\n",
    "    road(row2, col2)\n",
    "    \n",
    "\n",
    "def mono(res):\n",
    "\n",
    "    gains = []\n",
    "    \n",
    "    for index, res_ref in enumerate(res_refs):\n",
    "        if index == current_index:\n",
    "            continue\n",
    "        resources = res_ref.get()\n",
    "        losses = [r for r in resources if r == res]\n",
    "        take(index, losses)\n",
    "        gains += losses\n",
    "        \n",
    "    give(current_index, gains)\n",
    "\n",
    "        \n",
    "def invent(res1, res2):\n",
    "    \n",
    "    give(current_index, [res1, res2])"
   ]
  }
 ],
 "metadata": {
  "kernelspec": {
   "display_name": "Python 3",
   "language": "python",
   "name": "python3"
  },
  "language_info": {
   "codemirror_mode": {
    "name": "ipython",
    "version": 3
   },
   "file_extension": ".py",
   "mimetype": "text/x-python",
   "name": "python",
   "nbconvert_exporter": "python",
   "pygments_lexer": "ipython3",
   "version": "3.8.8"
  }
 },
 "nbformat": 4,
 "nbformat_minor": 5
}
