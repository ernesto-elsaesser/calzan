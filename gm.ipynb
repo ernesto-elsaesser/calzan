{
 "cells": [
  {
   "cell_type": "code",
   "execution_count": 1,
   "id": "035aa2e3-2f18-4815-8c62-315541d180d8",
   "metadata": {},
   "outputs": [],
   "source": [
    "import random"
   ]
  },
  {
   "cell_type": "code",
   "execution_count": 2,
   "id": "6b9be22f-5a39-45ff-b8e0-4cd29f9d0451",
   "metadata": {},
   "outputs": [],
   "source": [
    "from firebase_admin import initialize_app, credentials, db"
   ]
  },
  {
   "cell_type": "code",
   "execution_count": 3,
   "id": "91d21aa9-7340-4ada-9ae6-74236bde10dc",
   "metadata": {},
   "outputs": [],
   "source": [
    "cred = credentials.Certificate('creds.json')"
   ]
  },
  {
   "cell_type": "code",
   "execution_count": 4,
   "id": "df563705-75d7-4bfb-870f-05843a67750a",
   "metadata": {},
   "outputs": [],
   "source": [
    "app = initialize_app(cred, {'databaseURL': \"https://calzan-default-rtdb.europe-west1.firebasedatabase.app/\"})"
   ]
  },
  {
   "cell_type": "code",
   "execution_count": 15,
   "id": "e464b7b4-9f07-4eec-8fc2-706a6b5c0944",
   "metadata": {},
   "outputs": [],
   "source": [
    "H = \"Holz\"\n",
    "L = \"Lehm\"\n",
    "W = \"Weizen\"\n",
    "S = \"Schafe\"\n",
    "E = \"Erz\"\n",
    "\n",
    "class Game:\n",
    "    \n",
    "    resources = [H, L, W, S, E]\n",
    "    \n",
    "    def __init__(self, aliases):\n",
    "        \n",
    "        self.turn_ref = db.reference(\"/turn\")\n",
    "        self.board_ref = db.reference(\"/board\")\n",
    "        self.stack_ref = db.reference(\"/stack\")\n",
    "        self.player_refs = [db.reference('/players/' + a) for a in aliases]\n",
    "        self.player_count = len(self.player_refs)\n",
    "        self.resource_order = {r: i for i, r in enumerate(self.resources)}\n",
    "        \n",
    "        \n",
    "    def set_board(self, board):\n",
    "        \n",
    "        self.board_ref.set(board)\n",
    "        \n",
    "    \n",
    "    def initialize(self):\n",
    "        \n",
    "        for player_num, player_ref in enumerate(self.player_refs):\n",
    "            player_ref.set({\n",
    "                \"number\": player_num,\n",
    "                \"resources\": [],\n",
    "                \"cards\": [],\n",
    "            })\n",
    "        \n",
    "        stack = [\"Ritter\"] * 14 + [\"Monopol\", \"Strassenbau\", \"Erfindung\"] * 2\n",
    "        stack += [\"Bibliothek\", \"Marktplatz\", \"Rathaus\", \"Kirche\", \"Universität\"]\n",
    "        random.shuffle(stack)\n",
    "        self.stack_ref.set(stack)\n",
    "        \n",
    "        first = random.randint(0, self.player_count - 1)\n",
    "        self.turn_ref.set({'player': first, 'maxKnightCount': 2})\n",
    "        self.set_turn(first, None)\n",
    "        \n",
    "    \n",
    "    def set_turn(self, player_num, roll):\n",
    "\n",
    "        self.current = player_num\n",
    "        turn = self.turn_ref.get()\n",
    "        turn['player'] = self.current\n",
    "        turn['roll'] = roll\n",
    "        self.turn_ref.set(turn)\n",
    "        \n",
    "        \n",
    "    def set_longest_road(self, player_num, roads):\n",
    "        \n",
    "        turn = self.turn_ref.get()\n",
    "        turn['longestRoadPlayer'] = player_num\n",
    "        turn['longestRoadCount'] = roads\n",
    "        self.turn_ref.set(turn)\n",
    "        \n",
    "        \n",
    "    def next_turn(self, roll, step=1):\n",
    "        \n",
    "        next_player = (self.current + step) % self.player_count\n",
    "        self.set_turn(next_player, roll)\n",
    "        \n",
    "        \n",
    "    def next_roll(self):\n",
    "        \n",
    "        roll = random.randint(1, 6) + random.randint(1, 6)\n",
    "        self.next_turn(roll)\n",
    "        \n",
    "        \n",
    "    def update_player(self, player_num, gains=None, losses=None, gained_cards=None, lost_cards=None):\n",
    "        \n",
    "        player = self.player_refs[player_num].get()\n",
    "        \n",
    "        if losses is not None:\n",
    "            for resource in losses:\n",
    "                player['resources'].remove(resource)\n",
    "        if gains is not None:\n",
    "            player['resources'] += gains\n",
    "        player['resources'] = sorted(player['resources'], key=lambda r: self.resource_order[r])\n",
    "        \n",
    "        if lost_cards is not None:\n",
    "            for card in lost_cards:\n",
    "                player['cards'].remove(card)\n",
    "        if gained_cards is not None:\n",
    "            player['cards'] += gained_cards\n",
    "            if \"Ritter (gespielt)\" in gained_cards:\n",
    "                knight_count = player['cards'].count(\"Ritter (gespielt)\")\n",
    "                turn = self.turn_ref.get()\n",
    "                if knight_count > turn['maxKnightPlayer']:\n",
    "                    turn['maxKnightCount'] = knight_count\n",
    "                    turn['maxKnightPlayer'] = player_num\n",
    "                    self.turn_ref.set(turn)\n",
    "            \n",
    "        self.player_refs[player_num].set(player)\n",
    "            \n",
    "            \n",
    "    def trade_resources(self, giver_num, taker_num, give, take):\n",
    "        \n",
    "        self.update_player(giver_num, gains=take, losses=give)\n",
    "        self.update_player(taker_num, gains=give, losses=take)\n",
    "        \n",
    "        \n",
    "    def steal_resource(self, dest_num, orig_num):\n",
    "        \n",
    "        orig = self.player_refs[orig_num].get()\n",
    "        if len(orig['resources']) == 0:\n",
    "            return\n",
    "        resource = random.choice(orig['resources'])\n",
    "        self.update_player(orig_num, losses=[resource])\n",
    "        self.update_player(dest_num, gains=[resource])\n",
    "            \n",
    "            \n",
    "    def bandit(self):\n",
    "        \n",
    "        # TODO select which resources?\n",
    "        for player_num, player_ref in self.player_refs:\n",
    "\n",
    "            player = player_ref.get()\n",
    "            over_count = len(player['resources']) - 7\n",
    "            if over_count > 0:\n",
    "                losses = random.sample(player['resources'], over_count)\n",
    "                self.update_player(player_num, losses=losses)\n",
    "        \n",
    "        \n",
    "    def buy(self, player_num, roads=0, towns=0, cities=0, cards=0):\n",
    "        \n",
    "        costs = [H, L] * roads + [H, L, W, S] * towns + [W, W, E, E, E] * cities + [W, S, E] * cards\n",
    "        \n",
    "        drawn_cards = None\n",
    "        if cards > 0:\n",
    "            stack = self.stack_ref.get()\n",
    "            drawn_cards = stack[:cards]\n",
    "            self.stack_ref.set(stack[cards:])\n",
    "        \n",
    "        self.update_player(player_num, losses=costs, gained_cards=drawn_cards)\n",
    "        \n",
    "        \n",
    "    def play_card(self, player_num, card, param=None):\n",
    "        \n",
    "        gains = None\n",
    "        gained_cards = None\n",
    "        \n",
    "        if card == 'Ritter':\n",
    "            gained_cards = [\"Ritter (gespielt)\"]\n",
    "                \n",
    "        elif card == 'Strassenbau':\n",
    "            # TODO: grant 2 streets?\n",
    "            pass\n",
    "            \n",
    "        elif card == 'Monopol':\n",
    "            \n",
    "            gains = []\n",
    "            for other_num, player_ref in enumerate(self.player_refs):\n",
    "                if other_num == player_num:\n",
    "                    continue\n",
    "                other = self.player_refs[other_num].get()\n",
    "                losses = [r for r in other['resources'] if r == param]\n",
    "                gains += losses\n",
    "                self.update_player(other_num, losses=losses)\n",
    "                \n",
    "        elif card == 'Erfindung':\n",
    "            \n",
    "            gains = params\n",
    "            \n",
    "        else:\n",
    "            return\n",
    "            \n",
    "        self.update_player(player_num, gains=param, gained_cars=gained_cards, lost_cards=[card])"
   ]
  },
  {
   "cell_type": "markdown",
   "id": "36ad671c-991f-44dd-a508-7bc52e9afbaa",
   "metadata": {},
   "source": [
    "# Init"
   ]
  },
  {
   "cell_type": "code",
   "execution_count": 16,
   "id": "d7ccd3f4-48da-4a9b-92b7-666b89e0762d",
   "metadata": {},
   "outputs": [],
   "source": [
    "game = Game(['erns', 'nigh'])"
   ]
  },
  {
   "cell_type": "code",
   "execution_count": 9,
   "id": "c649f879-18a0-4c91-8306-8c953f55187a",
   "metadata": {},
   "outputs": [],
   "source": [
    "game.set_board([    \n",
    "\"                                 x           \",\n",
    "\"                              + = +          \",\n",
    "\"                            /     |          \",\n",
    "\"                   e  + - +   W   + - +      \",\n",
    "\"                    %     |   4 /     $ s    \",\n",
    "\"              + - +   L   + - +   H   + - +  \",\n",
    "\"            /     |   2 /     |   6 /     |  \",\n",
    "\"          +   S   + - +   H   + - +   W   +  \",\n",
    "\"          |   9 /     |   5 /     |   9 /    \",\n",
    "\"       w  + - +   L   + - +   S   + - +      \",\n",
    "\"        %     |   8 /  *  |  12 /     $ x    \",\n",
    "\"      +   H   + - +   X   + - +   S   +      \",\n",
    "\"      |   3 /     |     /     |   4 /        \",\n",
    "\"      + - +   E   + - +   E   + - +          \",\n",
    "\"    /     |   5 /     |   8 /     |          \",\n",
    "\"  +   W   + - +   L   + - +   S   +          \",\n",
    "\"x $   3 /     |  10 /     |  10 %            \",\n",
    "\"  + - +   W   + - +   H   + - +  x           \",\n",
    "\"      |   6 /     |  11 /                    \",\n",
    "\"      + = +   E   + = +                      \",\n",
    "\"       h  |  11 /  l                         \",\n",
    "\"          + - +                              \",\n",
    "\"                                             \"\n",
    "])"
   ]
  },
  {
   "cell_type": "markdown",
   "id": "8c33e8b0-2040-4572-98e5-83110f30b549",
   "metadata": {},
   "source": [
    "# Play"
   ]
  },
  {
   "cell_type": "code",
   "execution_count": 17,
   "id": "c20cdac7-f147-4cec-9595-4d1a577adb92",
   "metadata": {},
   "outputs": [],
   "source": [
    "game.initialize()"
   ]
  },
  {
   "cell_type": "code",
   "execution_count": null,
   "id": "6a721402-e54a-487a-8415-d56e94b3c50a",
   "metadata": {},
   "outputs": [],
   "source": [
    "game.next_turn(None, 1)"
   ]
  },
  {
   "cell_type": "code",
   "execution_count": null,
   "id": "aeaae9ab-9d01-468b-b611-a6d9932d5a18",
   "metadata": {},
   "outputs": [],
   "source": [
    "game.next_turn(None, -1)"
   ]
  },
  {
   "cell_type": "code",
   "execution_count": null,
   "id": "bfd01b1c-b754-4589-8799-3a6c17ccf1db",
   "metadata": {},
   "outputs": [],
   "source": [
    "game.roll_next()"
   ]
  },
  {
   "cell_type": "code",
   "execution_count": null,
   "id": "c95c8b0e-bcd7-4df7-8b04-cd0d23cf3c8d",
   "metadata": {},
   "outputs": [],
   "source": [
    "game.draw_card(0)"
   ]
  },
  {
   "cell_type": "code",
   "execution_count": null,
   "id": "eaf92f4b-d094-484b-bf3b-c1e0d26499aa",
   "metadata": {},
   "outputs": [],
   "source": [
    "game.play_card(0, \"Ritter\")"
   ]
  },
  {
   "cell_type": "code",
   "execution_count": null,
   "id": "c7427180-40bf-47ea-a0e3-2e578550a78d",
   "metadata": {},
   "outputs": [],
   "source": [
    "game.steal_resource(0, 1)"
   ]
  },
  {
   "cell_type": "code",
   "execution_count": null,
   "id": "d3789369-cc17-47bf-b904-7542780f40c4",
   "metadata": {},
   "outputs": [],
   "source": [
    "game.bandit()"
   ]
  },
  {
   "cell_type": "code",
   "execution_count": null,
   "id": "ed337eff-3ac5-4cd1-8b6d-360c33522b20",
   "metadata": {},
   "outputs": [],
   "source": [
    "game.buy(0, roads=2)"
   ]
  },
  {
   "cell_type": "code",
   "execution_count": null,
   "id": "a16b5832-5380-4b20-9cbe-4b3659bfbda9",
   "metadata": {},
   "outputs": [],
   "source": [
    "game.set_longest_road(0, 5)"
   ]
  },
  {
   "cell_type": "code",
   "execution_count": null,
   "id": "218e1879-7f45-42bb-8646-d0cbd1adc1dc",
   "metadata": {},
   "outputs": [],
   "source": [
    "game.set_board([    \n",
    "\"                                 x           \",\n",
    "\"                              + = +          \",\n",
    "\"                            /     |          \",\n",
    "\"                   e  + -2+   W   + - +      \",\n",
    "\"                    %     |2  4 /     $ s    \",\n",
    "\"              + - +   L   + -2#2  H   + - +  \",\n",
    "\"            /     |   2 /     |   6 /     |  \",\n",
    "\"          +   S   + -0+0  H   + - +1  W   +  \",\n",
    "\"          |   9 /     |   5 /     |1  9 /    \",\n",
    "\"       w  + - +   L   + - +   S   + -1+1     \",\n",
    "\"        %     |   8 /     |  12 /1    $ x    \",\n",
    "\"      +   H   +0- +   X   + - +1  S   +      \",\n",
    "\"      |   3 /0    |     /     |1  4 /        \",\n",
    "\"      + - +   E   + - +   E   + - +          \",\n",
    "\"    /     |0  5 /     |   8 /1    |          \",\n",
    "\"  +   W   + - +2  L   #1- +   S   +          \",\n",
    "\"x $   3 /0 *  |2 10 /1    |  10 %            \",\n",
    "\"  + - +0  W   + - +   H   + - +  x           \",\n",
    "\"      |   6 /2    |  11 /                    \",\n",
    "\"      + = +2  E   + = +                      \",\n",
    "\"       h  |  11 /  l                         \",\n",
    "\"          + - +                              \",\n",
    "\"                                             \"\n",
    "])"
   ]
  },
  {
   "cell_type": "code",
   "execution_count": null,
   "id": "c9cea821-7b23-460a-b973-74c76ba640e0",
   "metadata": {},
   "outputs": [],
   "source": []
  }
 ],
 "metadata": {
  "kernelspec": {
   "display_name": "Python 3",
   "language": "python",
   "name": "python3"
  },
  "language_info": {
   "codemirror_mode": {
    "name": "ipython",
    "version": 3
   },
   "file_extension": ".py",
   "mimetype": "text/x-python",
   "name": "python",
   "nbconvert_exporter": "python",
   "pygments_lexer": "ipython3",
   "version": "3.8.8"
  }
 },
 "nbformat": 4,
 "nbformat_minor": 5
}
