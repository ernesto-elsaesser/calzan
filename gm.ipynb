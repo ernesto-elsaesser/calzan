{
 "cells": [
  {
   "cell_type": "code",
   "execution_count": 1,
   "id": "035aa2e3-2f18-4815-8c62-315541d180d8",
   "metadata": {},
   "outputs": [],
   "source": [
    "import random\n",
    "from firebase_admin import initialize_app, credentials, db"
   ]
  },
  {
   "cell_type": "code",
   "execution_count": 2,
   "id": "91d21aa9-7340-4ada-9ae6-74236bde10dc",
   "metadata": {},
   "outputs": [],
   "source": [
    "cred = credentials.Certificate('creds.json')"
   ]
  },
  {
   "cell_type": "code",
   "execution_count": 3,
   "id": "df563705-75d7-4bfb-870f-05843a67750a",
   "metadata": {},
   "outputs": [],
   "source": [
    "app = initialize_app(cred, {'databaseURL': \"https://calzan-default-rtdb.europe-west1.firebasedatabase.app/\"})"
   ]
  },
  {
   "cell_type": "code",
   "execution_count": null,
   "id": "f1b56829-5029-441b-a1ae-296d28dad051",
   "metadata": {},
   "outputs": [],
   "source": [
    "players = {'Simon': 'gruft', 'Dave': 'clutch', 'Heiko': 'milch', 'Niko': 'wow'}"
   ]
  },
  {
   "cell_type": "code",
   "execution_count": 14,
   "id": "53ec0d06-1378-441b-a608-ad3a30216c11",
   "metadata": {},
   "outputs": [],
   "source": [
    "turn_ref = db.reference(\"turn\")\n",
    "board_ref = db.reference(\"board\")\n",
    "stack_ref = db.reference(\"stack\")\n",
    "players_ref = db.reference(\"players\")"
   ]
  },
  {
   "cell_type": "code",
   "execution_count": 13,
   "id": "74a6058b-fdc6-4a61-93f6-b670252aae50",
   "metadata": {},
   "outputs": [
    {
     "data": {
      "text/plain": [
       "{'currentTurn': 1,\n",
       " 'longestRoadCount': 5,\n",
       " 'longestRoadPlayer': 1,\n",
       " 'maxKnightCount': 2,\n",
       " 'names': ['', 'Ernie', 'Bert']}"
      ]
     },
     "execution_count": 13,
     "metadata": {},
     "output_type": "execute_result"
    }
   ],
   "source": [
    "turn_ref.get()"
   ]
  },
  {
   "cell_type": "code",
   "execution_count": 32,
   "id": "7d211c4d-c6b2-4640-93c7-569e5c2eca39",
   "metadata": {},
   "outputs": [
    {
     "data": {
      "text/plain": [
       "{'clutch': {'name': 'Dave', 'number': 2},\n",
       " 'excel': {'name': 'Niko', 'number': 4},\n",
       " 'milch': {'name': 'Heiko', 'number': 3},\n",
       " 'rave': {'name': 'Simon', 'number': 1}}"
      ]
     },
     "execution_count": 32,
     "metadata": {},
     "output_type": "execute_result"
    }
   ],
   "source": [
    "players_ref.get()"
   ]
  },
  {
   "cell_type": "code",
   "execution_count": 209,
   "id": "ad141e29-ef3b-40a6-b2c3-0d98fc68aebe",
   "metadata": {},
   "outputs": [],
   "source": [
    "h = \"Holz\"\n",
    "l = \"Lehm\"\n",
    "g = \"Getreide\"\n",
    "w = \"Wolle\"\n",
    "e = \"Erz\"\n",
    "x = \"Wüste\"\n",
    "\n",
    "resources = [h, l, g, w, e]\n",
    "resource_order = {r: i for i, r in enumerate(resources)}"
   ]
  },
  {
   "cell_type": "code",
   "execution_count": 37,
   "id": "47872e0f-d31d-4b82-9618-3fe08510362d",
   "metadata": {},
   "outputs": [],
   "source": [
    "# init board\n",
    "tiles = [[H, W, W], [G, E, G, H], [H, L, X, E, G], [G, E, H, W], [L, W, L]]\n",
    "rolls = [[6, 3, 8], [2, 4, 5, 10], [5, 9, None, 6, 9], [10, 11, 3, 12], [8, 4, 11]]\n",
    "ports = ['*', W, '*', E, '*', G, L, '*', H]\n",
    "\n",
    "board = [[{'id': row * 100 + col} for col in range(21)] for row in range(11)]\n",
    "\n",
    "for r, ts in enumerate(tiles):\n",
    "    row = 1 + (r * 2)\n",
    "    pad = (1 + abs(r - 2)) * 2 \n",
    "    for c, tile in enumerate(ts):\n",
    "        col = pad + c * 4\n",
    "        board[row][col]['tile'] = tile\n",
    "        roll = rolls[r][c]\n",
    "        if roll is not None:\n",
    "            board[row][col]['roll'] = roll\n",
    "        else:\n",
    "            board[row][col]['bandit'] = True\n",
    "\n",
    "board[0][5]['port'] = ports[0]\n",
    "board[0][5]['face'] = 'NW'\n",
    "board[0][11]['port'] = ports[1]\n",
    "board[0][11]['face'] = 'NE'\n",
    "board[2][17]['port'] = ports[2]\n",
    "board[2][17]['face'] = 'NE'\n",
    "board[3][2]['port'] = ports[3]\n",
    "board[3][2]['face'] = 'W'\n",
    "board[5][20]['port'] = ports[4]\n",
    "board[5][20]['face'] = 'E'\n",
    "board[7][2]['port'] = ports[5]\n",
    "board[7][2]['face'] = 'W'\n",
    "board[8][17]['port'] = ports[6]\n",
    "board[8][17]['face'] = 'SE'\n",
    "board[10][5]['port'] = ports[7]\n",
    "board[10][5]['face'] = 'SW'\n",
    "board[10][11]['port'] = ports[8]\n",
    "board[10][11]['face'] = 'SE'\n",
    "\n",
    "board_ref.set(board)"
   ]
  },
  {
   "cell_type": "code",
   "execution_count": 38,
   "id": "c2782de2-1067-44ad-a204-38198b7b5bec",
   "metadata": {},
   "outputs": [],
   "source": [
    "# set players\n",
    "player_refs = [players_ref.child(k) for k in players.values()]\n",
    "res_refs = [r.child('resources') for r in player_refs]\n",
    "card_refs = [r.child('cards') for r in player_refs]\n",
    "player_count = len(players)"
   ]
  },
  {
   "cell_type": "code",
   "execution_count": 35,
   "id": "6036e304-f8a2-4065-a9e4-1e84846d50d1",
   "metadata": {},
   "outputs": [],
   "source": [
    "# init players\n",
    "player_data = {k: {\"index\": i} for i, (n, k) in enumerate(players.items())}\n",
    "players_ref.set(player_data) "
   ]
  },
  {
   "cell_type": "code",
   "execution_count": 9,
   "id": "ab938d61-60ad-4d5b-806c-bcb067c89d55",
   "metadata": {},
   "outputs": [],
   "source": [
    "# init cards\n",
    "stack = [\"Ritter\"] * 14 + [\"Monopol\", \"Strassenbau\", \"Erfindung\"] * 2\n",
    "stack += [\"Bibliothek\", \"Marktplatz\", \"Rathaus\", \"Kirche\", \"Universität\"]\n",
    "random.shuffle(stack)\n",
    "stack_ref.set(stack)"
   ]
  },
  {
   "cell_type": "code",
   "execution_count": 39,
   "id": "bba7db38-2880-4acd-a4fa-08540153ef09",
   "metadata": {},
   "outputs": [],
   "source": [
    "# init turn\n",
    "names = [\"\"] + list(players)\n",
    "first_index = random.randrange(player_count)\n",
    "turn_ref.set({'names': names, 'index': first_index, 'maxKnightCount': 2})"
   ]
  },
  {
   "cell_type": "code",
   "execution_count": 106,
   "id": "ceeab3f8-fd0d-42e6-87ea-ab4f7f5d0021",
   "metadata": {},
   "outputs": [
    {
     "data": {
      "text/plain": [
       "1"
      ]
     },
     "execution_count": 106,
     "metadata": {},
     "output_type": "execute_result"
    }
   ],
   "source": [
    "current"
   ]
  },
  {
   "cell_type": "code",
   "execution_count": 108,
   "id": "e792b2f1-b1ab-4871-a661-5f80a95c6ea0",
   "metadata": {},
   "outputs": [],
   "source": [
    "current_index = SI"
   ]
  },
  {
   "cell_type": "code",
   "execution_count": null,
   "id": "86280301-dfc3-41cb-839b-1a80dd095cbd",
   "metadata": {},
   "outputs": [],
   "source": [
    "current_index = first_index + 1"
   ]
  },
  {
   "cell_type": "code",
   "execution_count": null,
   "id": "b2c264c3-6f2b-4d77-8952-17d002766d7d",
   "metadata": {},
   "outputs": [],
   "source": [
    "current_index += 1"
   ]
  },
  {
   "cell_type": "code",
   "execution_count": 67,
   "id": "f6fe95fb-10ef-4883-8069-ff85bfdfd8df",
   "metadata": {},
   "outputs": [],
   "source": [
    "current_index -= 1"
   ]
  },
  {
   "cell_type": "code",
   "execution_count": 73,
   "id": "ea3a84ce-06b2-4fa7-b89e-1c4d3bf541bc",
   "metadata": {},
   "outputs": [],
   "source": [
    "# next placement\n",
    "turn_ref.update({'index': current_index})"
   ]
  },
  {
   "cell_type": "code",
   "execution_count": 253,
   "id": "0a6807c0-531c-41da-920b-aa503665e13f",
   "metadata": {},
   "outputs": [],
   "source": [
    "# placement\n",
    "P = S\n",
    "board = board_ref.get()\n",
    "#board[8][2]['town'] = P+1\n",
    "#board[4][16]['city'] = True\n",
    "board[4][5]['road'] = P+1\n",
    "board_ref.set(board)"
   ]
  },
  {
   "cell_type": "code",
   "execution_count": 249,
   "id": "0f3b4949-19ba-42b5-ae3c-3d8ca1a1f64e",
   "metadata": {},
   "outputs": [],
   "source": [
    "# next turn\n",
    "current_index = (current_index + 1) % player_count\n",
    "roll = random.randint(1, 6) + random.randint(1, 6)\n",
    "turn_ref.update({'index': current_index, 'roll': roll})"
   ]
  },
  {
   "cell_type": "code",
   "execution_count": 12,
   "id": "43e742f3-6180-4b1c-8e1c-5f6bba0d77a0",
   "metadata": {},
   "outputs": [],
   "source": [
    "# set longest road\n",
    "turn_ref.update({'longestRoadPlayer': 1, 'longestRoadCount': 5})"
   ]
  },
  {
   "cell_type": "code",
   "execution_count": 88,
   "id": "01c3e308-9cd5-48e9-92bd-6d3d2200adfe",
   "metadata": {},
   "outputs": [],
   "source": [
    "# init resource\n",
    "resources = sorted([H, W, E], key=lambda r: resource_order[r])\n",
    "res_refs[3].set(resources)"
   ]
  },
  {
   "cell_type": "code",
   "execution_count": 210,
   "id": "01be9079-3ef6-49d0-8039-acc35be2708a",
   "metadata": {},
   "outputs": [],
   "source": [
    "s = player_refs[0]\n",
    "d = player_refs[1]\n",
    "h = player_refs[2]\n",
    "n = player_refs[3]"
   ]
  },
  {
   "cell_type": "code",
   "execution_count": 244,
   "id": "4cec89a0-58e0-4f6a-a1af-532f1edcd11c",
   "metadata": {},
   "outputs": [
    {
     "data": {
      "text/plain": [
       "['Holz',\n",
       " 'Holz',\n",
       " 'Lehm',\n",
       " 'Lehm',\n",
       " 'Getreide',\n",
       " 'Wolle',\n",
       " 'Wolle',\n",
       " 'Erz',\n",
       " 'Erz',\n",
       " 'Erz',\n",
       " 'Erz']"
      ]
     },
     "execution_count": 244,
     "metadata": {},
     "output_type": "execute_result"
    }
   ],
   "source": [
    "# add resources\n",
    "P = N\n",
    "resources = res_refs[P].get() or []\n",
    "resources += [l, l]\n",
    "resources = sorted(resources, key=lambda r: resource_order[r])\n",
    "res_refs[P].set(resources)\n",
    "resources"
   ]
  },
  {
   "cell_type": "code",
   "execution_count": 254,
   "id": "dd0c3b13-a87c-4483-a049-b81847673227",
   "metadata": {},
   "outputs": [
    {
     "data": {
      "text/plain": [
       "['Holz', 'Wolle']"
      ]
     },
     "execution_count": 254,
     "metadata": {},
     "output_type": "execute_result"
    }
   ],
   "source": [
    "# pay resources\n",
    "P = S\n",
    "#X = [h, l]\n",
    "#X = [h, l, g, w]\n",
    "#X = [g, g, e, e, e]\n",
    "X = [g, w, e]\n",
    "#X = [g, g, g, g]\n",
    "resources = res_refs[P].get()\n",
    "for resource in X:\n",
    "    resources.remove(resource)\n",
    "res_refs[P].set(resources)\n",
    "resources"
   ]
  },
  {
   "cell_type": "code",
   "execution_count": 250,
   "id": "9cb0d54e-2298-422f-aaf9-99cd32ed84fa",
   "metadata": {},
   "outputs": [
    {
     "data": {
      "text/plain": [
       "{'clutch': {'name': 'Dave',\n",
       "  'number': 2,\n",
       "  'resources': ['Holz',\n",
       "   'Holz',\n",
       "   'Getreide',\n",
       "   'Getreide',\n",
       "   'Getreide',\n",
       "   'Getreide',\n",
       "   'Wolle',\n",
       "   'Erz']},\n",
       " 'excel': {'name': 'Niko', 'number': 4},\n",
       " 'gruft': {'name': 'Simon',\n",
       "  'number': 1,\n",
       "  'resources': ['Holz', 'Holz', 'Lehm', 'Getreide', 'Wolle', 'Wolle', 'Erz']},\n",
       " 'milch': {'name': 'Heiko', 'number': 3, 'resources': ['Wolle', 'Erz']},\n",
       " 'wow': {'resources': ['Wolle', 'Erz', 'Erz', 'Erz', 'Erz']}}"
      ]
     },
     "execution_count": 250,
     "metadata": {},
     "output_type": "execute_result"
    }
   ],
   "source": [
    "players_ref.get()"
   ]
  },
  {
   "cell_type": "code",
   "execution_count": 195,
   "id": "415b8c01-d8c8-4eb7-993f-a191b0f30e4e",
   "metadata": {},
   "outputs": [],
   "source": [
    "# bandit\n",
    "board = board_ref.get()\n",
    "board[5][2]['bandit'] = True\n",
    "board[3][4]['bandit'] = None\n",
    "board_ref.set(board)"
   ]
  },
  {
   "cell_type": "code",
   "execution_count": 196,
   "id": "3a3967a5-3bd8-415a-b246-3221c6e63ebe",
   "metadata": {},
   "outputs": [
    {
     "data": {
      "text/plain": [
       "'Erz'"
      ]
     },
     "execution_count": 196,
     "metadata": {},
     "output_type": "execute_result"
    }
   ],
   "source": [
    "# bandit steal\n",
    "P = SI\n",
    "resources = res_refs[P].get()\n",
    "random.choice(resources)"
   ]
  },
  {
   "cell_type": "code",
   "execution_count": null,
   "id": "1a571277-6cba-44a5-ade5-6bfc795869c1",
   "metadata": {},
   "outputs": [],
   "source": [
    "# check bandit\n",
    "\n",
    "for player_num, player_ref in self.player_refs:\n",
    "\n",
    "    player = player_ref.get()\n",
    "    over_count = len(player['resources']) - 7\n",
    "    if over_count > 0:\n",
    "        losses = random.sample(player['resources'], over_count)\n",
    "        self.update_player(player_num, losses=losses)"
   ]
  },
  {
   "cell_type": "code",
   "execution_count": null,
   "id": "24a5954c-33e7-45b2-af19-739d32134d99",
   "metadata": {},
   "outputs": [],
   "source": [
    "def road(alias):\n",
    "P = S\n",
    "X = [h, l]\n",
    "#X = [h, l, g, w]\n",
    "#X = [g, g, e, e, e]\n",
    "#X = [g, w, e]\n",
    "#X = [h]\n",
    "resources = ref.get()\n",
    "for resource in X:\n",
    "    resources.remove(resource)\n",
    "ref.set(resources)\n",
    "\n",
    "P = N\n",
    "board = board_ref.get()\n",
    "#board[8][2]['town'] = P+1\n",
    "#board[4][16]['city'] = True\n",
    "board[6][17]['road'] = P+1\n",
    "board_ref.set(board)"
   ]
  },
  {
   "cell_type": "code",
   "execution_count": 255,
   "id": "901f5091-6b0a-4833-8988-21c07a1837fc",
   "metadata": {},
   "outputs": [
    {
     "data": {
      "text/plain": [
       "['Strassenbau']"
      ]
     },
     "execution_count": 255,
     "metadata": {},
     "output_type": "execute_result"
    }
   ],
   "source": [
    "# add card\n",
    "P = S\n",
    "cards = card_refs[P].get() or []\n",
    "cards.append(\"Strassenbau\")\n",
    "card_refs[P].set(cards)\n",
    "cards"
   ]
  },
  {
   "cell_type": "code",
   "execution_count": 9,
   "id": "5b726eca-39c2-4b9b-bf28-4fed71cf7af1",
   "metadata": {},
   "outputs": [],
   "source": [
    "player['cards'].remove(card)\n",
    "player['cards'] += gained_cards\n",
    "\n",
    "if \"Ritter (gespielt)\" in gained_cards:\n",
    "    knight_count = player['cards'].count(\"Ritter (gespielt)\")\n",
    "    turn = turn_ref.get()\n",
    "    if knight_count > turn['maxKnightPlayer']:\n",
    "        turn['maxKnightCount'] = knight_count\n",
    "        turn['maxKnightPlayer'] = player_num\n",
    "        turn_ref.set(turn)\n",
    "\n",
    "player_refs[p].update(player)\n",
    "\n",
    "\n",
    "\n",
    "\n",
    "def steal_resource(self, dest_num, orig_num):\n",
    "\n",
    "    orig = self.player_refs[orig_num].get()\n",
    "    if len(orig['resources']) == 0:\n",
    "        return\n",
    "    resource = random.choice(orig['resources'])\n",
    "    self.update_player(orig_num, losses=[resource])\n",
    "    self.update_player(dest_num, gains=[resource])\n",
    "\n",
    "\n",
    "def check_bandit(self):\n",
    "\n",
    "    # TODO select which resources?\n",
    "    for player_num, player_ref in self.player_refs:\n",
    "\n",
    "        player = player_ref.get()\n",
    "        over_count = len(player['resources']) - 7\n",
    "        if over_count > 0:\n",
    "            losses = random.sample(player['resources'], over_count)\n",
    "            self.update_player(player_num, losses=losses)\n",
    "\n",
    "\n",
    "def buy(self, player_num, roads=0, towns=0, cities=0, cards=0):\n",
    "\n",
    "    costs = [H, L] * roads + [H, L, G, W] * towns + [G, G, E, E, E] * cities + [G, W, E] * cards\n",
    "\n",
    "    drawn_cards = None\n",
    "    if cards > 0:\n",
    "        stack = self.stack_ref.get()\n",
    "        drawn_cards = stack[:cards]\n",
    "        self.stack_ref.set(stack[cards:])\n",
    "\n",
    "    self.update_player(player_num, losses=costs, gained_cards=drawn_cards)\n",
    "\n",
    "\n",
    "def move_bandit(self, bid):\n",
    "\n",
    "    board = self.board_ref.get()\n",
    "    prev_cell = [c for r in board for c in r if 'bandit' in c][0]\n",
    "\n",
    "    self.set_cell_attribute(prev_cell['id'], 'bandit', None)\n",
    "    self.set_cell_attribute(bid, 'bandit', True)\n",
    "\n",
    "\n",
    "def build_road(self, player_num, bid):\n",
    "\n",
    "    self.set_cell_attribute(bid, 'road', player_num)\n",
    "\n",
    "\n",
    "def build_town(self, player_num, bid):\n",
    "\n",
    "    self.set_cell_attribute(bid, 'town', player_num)\n",
    "\n",
    "\n",
    "def upgrade_town(self, bid):\n",
    "\n",
    "    self.set_cell_attribute(bid, 'city', True)\n",
    "\n",
    "\n",
    "def play_card(self, player_num, card, param=None):\n",
    "\n",
    "    gains = None\n",
    "    gained_cards = None\n",
    "\n",
    "    if card == 'Ritter':\n",
    "        gained_cards = [\"Ritter (gespielt)\"]\n",
    "\n",
    "    elif card == 'Strassenbau':\n",
    "        # TODO: grant 2 streets?\n",
    "        pass\n",
    "\n",
    "    elif card == 'Monopol':\n",
    "\n",
    "        gains = []\n",
    "        for other_num, player_ref in enumerate(self.player_refs):\n",
    "            if other_num == player_num:\n",
    "                continue\n",
    "            other = self.player_refs[other_num].get()\n",
    "            losses = [r for r in other['resources'] if r == param]\n",
    "            gains += losses\n",
    "            self.update_player(other_num, losses=losses)\n",
    "\n",
    "    elif card == 'Erfindung':\n",
    "\n",
    "        gains = params\n",
    "\n",
    "    else:\n",
    "        return\n",
    "\n",
    "    self.update_player(player_num, gains=param, gained_cars=gained_cards, lost_cards=[card])"
   ]
  },
  {
   "cell_type": "code",
   "execution_count": null,
   "id": "e041c616-6551-4ce2-88e3-3d7acf5dddf0",
   "metadata": {},
   "outputs": [],
   "source": [
    "random.randint(1, 6) + random.randint(1, 6)"
   ]
  },
  {
   "cell_type": "raw",
   "id": "15cb91a2-f2c3-4bd6-8b13-bfd8367411bd",
   "metadata": {},
   "source": [
    "     0         1\n",
    "     0123456789012345678\n",
    " 000      / \\ / \\ / \\\n",
    " 100     | H | W | W |\n",
    " 200    / \\ / \\ / \\ / \\ \n",
    " 300   | G | E | G | H |\n",
    " 400  / \\ / \\ / \\ / \\ / \\ \n",
    " 500 | H | L |   | E | G |\n",
    " 600  \\ / \\ / \\ / \\ / \\ /\n",
    " 700   | G | E | H | W |\n",
    " 800    \\ / \\ / \\ / \\ /\n",
    " 900     | L | W | L |\n",
    "1000      \\ / \\ / \\ / "
   ]
  },
  {
   "cell_type": "code",
   "execution_count": null,
   "id": "c9cea821-7b23-460a-b973-74c76ba640e0",
   "metadata": {},
   "outputs": [],
   "source": []
  },
  {
   "cell_type": "markdown",
   "id": "847dde51-939b-41ef-a96a-c69cd87cea74",
   "metadata": {},
   "source": [
    "Fix:\n",
    "- backend\n",
    "    - trade functions\n",
    "    - bandit loss communicate\n",
    "    - block for every buy\n",
    "- frontend\n",
    "    - Gelb Kontrast!"
   ]
  }
 ],
 "metadata": {
  "kernelspec": {
   "display_name": "Python 3",
   "language": "python",
   "name": "python3"
  },
  "language_info": {
   "codemirror_mode": {
    "name": "ipython",
    "version": 3
   },
   "file_extension": ".py",
   "mimetype": "text/x-python",
   "name": "python",
   "nbconvert_exporter": "python",
   "pygments_lexer": "ipython3",
   "version": "3.8.8"
  }
 },
 "nbformat": 4,
 "nbformat_minor": 5
}
