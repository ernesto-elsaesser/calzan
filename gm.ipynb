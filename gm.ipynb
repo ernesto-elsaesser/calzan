{
 "cells": [
  {
   "cell_type": "code",
   "execution_count": 1,
   "id": "035aa2e3-2f18-4815-8c62-315541d180d8",
   "metadata": {},
   "outputs": [],
   "source": [
    "import random"
   ]
  },
  {
   "cell_type": "code",
   "execution_count": 2,
   "id": "6b9be22f-5a39-45ff-b8e0-4cd29f9d0451",
   "metadata": {},
   "outputs": [],
   "source": [
    "from firebase_admin import initialize_app, credentials, db"
   ]
  },
  {
   "cell_type": "code",
   "execution_count": 4,
   "id": "91d21aa9-7340-4ada-9ae6-74236bde10dc",
   "metadata": {},
   "outputs": [],
   "source": [
    "cred = credentials.Certificate('creds.json')"
   ]
  },
  {
   "cell_type": "code",
   "execution_count": 5,
   "id": "df563705-75d7-4bfb-870f-05843a67750a",
   "metadata": {},
   "outputs": [],
   "source": [
    "app = initialize_app(cred, {'databaseURL': \"https://calzan-default-rtdb.europe-west1.firebasedatabase.app/\"})"
   ]
  },
  {
   "cell_type": "code",
   "execution_count": 73,
   "id": "ad141e29-ef3b-40a6-b2c3-0d98fc68aebe",
   "metadata": {},
   "outputs": [],
   "source": [
    "H = \"Holz\"\n",
    "L = \"Lehm\"\n",
    "G = \"Getreide\"\n",
    "W = \"Wolle\"\n",
    "E = \"Erz\"\n",
    "X = \"Wüste\""
   ]
  },
  {
   "cell_type": "code",
   "execution_count": 86,
   "id": "32a289c5-c41b-45d9-9eb0-c82c3ac973a7",
   "metadata": {},
   "outputs": [],
   "source": [
    "class Game:\n",
    "    \n",
    "    resources = [H, L, G, W, E]\n",
    "    \n",
    "    def __init__(self, credentials):\n",
    "        \n",
    "        self.turn_ref = db.reference(\"/turn\")\n",
    "        self.board_ref = db.reference(\"/board\")\n",
    "        self.stack_ref = db.reference(\"/stack\")\n",
    "        self.player_refs = {a: db.reference('/players/' + s) for a, s in credentials.items()}\n",
    "        self.player_count = len(credentials)\n",
    "        self.resource_order = {r: i for i, r in enumerate(self.resources)}\n",
    "        \n",
    "        \n",
    "    def set_board(self, board):\n",
    "        \n",
    "        self.board_ref.set(board)\n",
    "        \n",
    "    \n",
    "    def initialize(self):\n",
    "        \n",
    "        for idx, name in enumerate(self.player_refs):\n",
    "            self.player_refs[name].set({\n",
    "                \"name\": name,\n",
    "                \"number\": idx + 1,\n",
    "                \"resources\": [],\n",
    "                \"cards\": [],\n",
    "            })\n",
    "        \n",
    "        stack = [\"Ritter\"] * 14 + [\"Monopol\", \"Strassenbau\", \"Erfindung\"] * 2\n",
    "        stack += [\"Bibliothek\", \"Marktplatz\", \"Rathaus\", \"Kirche\", \"Universität\"]\n",
    "        random.shuffle(stack)\n",
    "        self.stack_ref.set(stack)\n",
    "        \n",
    "        names = [\"\"] + list(self.player_refs)\n",
    "        first = random.randint(1, self.player_count)\n",
    "        self.turn_ref.set({'names': names, 'currentTurn': first, 'maxKnightCount': 2})\n",
    "        self.set_turn(first, None)\n",
    "        \n",
    "    \n",
    "    def set_turn(self, player_num, roll):\n",
    "\n",
    "        self.current = player_num\n",
    "        turn = self.turn_ref.get()\n",
    "        turn['currentTurn'] = player_num\n",
    "        turn['roll'] = roll\n",
    "        self.turn_ref.set(turn)\n",
    "        \n",
    "        \n",
    "    def set_longest_road(self, player_num, roads):\n",
    "        \n",
    "        turn = self.turn_ref.get()\n",
    "        turn['longestRoadPlayer'] = player_num\n",
    "        turn['longestRoadCount'] = roads\n",
    "        self.turn_ref.set(turn)\n",
    "        \n",
    "        \n",
    "    def next_turn(self, roll, step=1):\n",
    "        \n",
    "        next_player = self.current + step\n",
    "        if next_player > self.player_count:\n",
    "            next_player -= self.player_count\n",
    "        self.set_turn(next_player, roll)\n",
    "        \n",
    "        \n",
    "    def next_roll(self):\n",
    "        \n",
    "        roll = random.randint(1, 6) + random.randint(1, 6)\n",
    "        self.next_turn(roll)\n",
    "        \n",
    "        \n",
    "    def update_player(self, player_num, gains=None, losses=None, gained_cards=None, lost_cards=None):\n",
    "        \n",
    "        player = self.player_refs[player_num].get()\n",
    "        \n",
    "        if losses is not None:\n",
    "            for resource in losses:\n",
    "                player['resources'].remove(resource)\n",
    "        if gains is not None:\n",
    "            player['resources'] += gains\n",
    "        player['resources'] = sorted(player['resources'], key=lambda r: self.resource_order[r])\n",
    "        \n",
    "        if lost_cards is not None:\n",
    "            for card in lost_cards:\n",
    "                player['cards'].remove(card)\n",
    "        if gained_cards is not None:\n",
    "            player['cards'] += gained_cards\n",
    "            if \"Ritter (gespielt)\" in gained_cards:\n",
    "                knight_count = player['cards'].count(\"Ritter (gespielt)\")\n",
    "                turn = self.turn_ref.get()\n",
    "                if knight_count > turn['maxKnightPlayer']:\n",
    "                    turn['maxKnightCount'] = knight_count\n",
    "                    turn['maxKnightPlayer'] = player_num\n",
    "                    self.turn_ref.set(turn)\n",
    "            \n",
    "        self.player_refs[player_num].set(player)\n",
    "            \n",
    "            \n",
    "    def trade_resources(self, giver_num, taker_num, give, take):\n",
    "        \n",
    "        self.update_player(giver_num, gains=take, losses=give)\n",
    "        self.update_player(taker_num, gains=give, losses=take)\n",
    "        \n",
    "        \n",
    "    def steal_resource(self, dest_num, orig_num):\n",
    "        \n",
    "        orig = self.player_refs[orig_num].get()\n",
    "        if len(orig['resources']) == 0:\n",
    "            return\n",
    "        resource = random.choice(orig['resources'])\n",
    "        self.update_player(orig_num, losses=[resource])\n",
    "        self.update_player(dest_num, gains=[resource])\n",
    "            \n",
    "            \n",
    "    def bandit(self):\n",
    "        \n",
    "        # TODO select which resources?\n",
    "        for player_num, player_ref in self.player_refs:\n",
    "\n",
    "            player = player_ref.get()\n",
    "            over_count = len(player['resources']) - 7\n",
    "            if over_count > 0:\n",
    "                losses = random.sample(player['resources'], over_count)\n",
    "                self.update_player(player_num, losses=losses)\n",
    "        \n",
    "        \n",
    "    def buy(self, player_num, roads=0, towns=0, cities=0, cards=0):\n",
    "        \n",
    "        costs = [H, L] * roads + [H, L, G, W] * towns + [G, G, E, E, E] * cities + [G, W, E] * cards\n",
    "        \n",
    "        drawn_cards = None\n",
    "        if cards > 0:\n",
    "            stack = self.stack_ref.get()\n",
    "            drawn_cards = stack[:cards]\n",
    "            self.stack_ref.set(stack[cards:])\n",
    "        \n",
    "        self.update_player(player_num, losses=costs, gained_cards=drawn_cards)\n",
    "        \n",
    "        \n",
    "    def play_card(self, player_num, card, param=None):\n",
    "        \n",
    "        gains = None\n",
    "        gained_cards = None\n",
    "        \n",
    "        if card == 'Ritter':\n",
    "            gained_cards = [\"Ritter (gespielt)\"]\n",
    "                \n",
    "        elif card == 'Strassenbau':\n",
    "            # TODO: grant 2 streets?\n",
    "            pass\n",
    "            \n",
    "        elif card == 'Monopol':\n",
    "            \n",
    "            gains = []\n",
    "            for other_num, player_ref in enumerate(self.player_refs):\n",
    "                if other_num == player_num:\n",
    "                    continue\n",
    "                other = self.player_refs[other_num].get()\n",
    "                losses = [r for r in other['resources'] if r == param]\n",
    "                gains += losses\n",
    "                self.update_player(other_num, losses=losses)\n",
    "                \n",
    "        elif card == 'Erfindung':\n",
    "            \n",
    "            gains = params\n",
    "            \n",
    "        else:\n",
    "            return\n",
    "            \n",
    "        self.update_player(player_num, gains=param, gained_cars=gained_cards, lost_cards=[card])"
   ]
  },
  {
   "cell_type": "markdown",
   "id": "36ad671c-991f-44dd-a508-7bc52e9afbaa",
   "metadata": {},
   "source": [
    "# Init"
   ]
  },
  {
   "cell_type": "code",
   "execution_count": 87,
   "id": "d7ccd3f4-48da-4a9b-92b7-666b89e0762d",
   "metadata": {},
   "outputs": [],
   "source": [
    "game = Game({'Ernie': 'kek', 'Bert': 'lel'})"
   ]
  },
  {
   "cell_type": "raw",
   "id": "15cb91a2-f2c3-4bd6-8b13-bfd8367411bd",
   "metadata": {},
   "source": [
    "    ./'\\./'\\./'\\.\n",
    "    | H | W | W |\n",
    "  ./'\\./'\\./'\\./'\\.\n",
    "  | G | E | G | H |\n",
    "./'\\./'\\./'\\./'\\./'\\.\n",
    "| H | L | X | E | G |\n",
    "'\\./'\\./'\\./'\\./'\\./'\n",
    "  | G | E | H | W |\n",
    "  '\\./'\\./'\\./'\\./'\n",
    "    | L | W | L |\n",
    "    '\\./'\\./'\\./'"
   ]
  },
  {
   "cell_type": "code",
   "execution_count": 77,
   "id": "1eec44cb-b272-47f1-adc5-7ca56fbd3c46",
   "metadata": {},
   "outputs": [],
   "source": [
    "tiles = [[H, W, W], [G, E, G, H], [H, L, X, E, G], [G, E, H, W], [L, W, L]]\n",
    "rolls = [[6, 3, 8], [2, 4, 5, 10], [5, 9, None, 6, 9], [10, 11, 3, 12], [8, 4, 11]]"
   ]
  },
  {
   "cell_type": "code",
   "execution_count": 78,
   "id": "adfff05f-383f-4c21-81aa-f2798236be1f",
   "metadata": {},
   "outputs": [],
   "source": [
    "board = [[{'id': row * 100 + col} for col in range(21)] for row in range(11)]\n",
    "for r, ts in enumerate(tiles):\n",
    "    row = 1 + (r * 2)\n",
    "    pad = (1 + abs(r - 2)) * 2 \n",
    "    for c, tile in enumerate(ts):\n",
    "        col = pad + c * 4\n",
    "        board[row][col]['tile'] = tile\n",
    "        roll = rolls[r][c]\n",
    "        if roll is not None:\n",
    "            board[row][col]['roll'] = roll\n",
    "        else:\n",
    "            board[row][col]['bandit'] = True"
   ]
  },
  {
   "cell_type": "code",
   "execution_count": 79,
   "id": "786e17b7-b35f-4d40-9cd8-022e342ec984",
   "metadata": {},
   "outputs": [],
   "source": [
    "board[0][5]['port'] = '*'\n",
    "board[0][5]['face'] = 'NW'\n",
    "board[0][11]['port'] = W\n",
    "board[0][11]['face'] = 'NE'\n",
    "board[2][17]['port'] = '*'\n",
    "board[2][17]['face'] = 'NE'\n",
    "board[3][2]['port'] = E\n",
    "board[3][2]['face'] = 'W'\n",
    "board[5][20]['port'] = '*'\n",
    "board[5][20]['face'] = 'E'\n",
    "board[7][2]['port'] = G\n",
    "board[7][2]['face'] = 'W'\n",
    "board[8][17]['port'] = L\n",
    "board[8][17]['face'] = 'SE'\n",
    "board[10][5]['port'] = '*'\n",
    "board[10][5]['face'] = 'SW'\n",
    "board[10][11]['port'] = H\n",
    "board[10][11]['face'] = 'SE'"
   ]
  },
  {
   "cell_type": "code",
   "execution_count": 84,
   "id": "4f2aa99f-91c4-4da8-b52d-8541b4b9485e",
   "metadata": {},
   "outputs": [],
   "source": [
    "board[5][8]['road'] = 1\n",
    "board[4][7]['road'] = 1\n",
    "board[4][9]['road'] = 1\n",
    "board[4][8]['town'] = 2\n",
    "board[6][8]['town'] = 2\n",
    "board[4][6]['town'] = 3\n",
    "board[4][6]['city'] = True"
   ]
  },
  {
   "cell_type": "code",
   "execution_count": 85,
   "id": "5d9e92fe-d382-4d02-8665-856ad775bf92",
   "metadata": {},
   "outputs": [],
   "source": [
    "game.set_board(board)"
   ]
  },
  {
   "cell_type": "markdown",
   "id": "8c33e8b0-2040-4572-98e5-83110f30b549",
   "metadata": {},
   "source": [
    "# Play"
   ]
  },
  {
   "cell_type": "code",
   "execution_count": 88,
   "id": "c20cdac7-f147-4cec-9595-4d1a577adb92",
   "metadata": {},
   "outputs": [],
   "source": [
    "game.initialize()"
   ]
  },
  {
   "cell_type": "code",
   "execution_count": null,
   "id": "6a721402-e54a-487a-8415-d56e94b3c50a",
   "metadata": {},
   "outputs": [],
   "source": [
    "game.next_turn(None, 1)"
   ]
  },
  {
   "cell_type": "code",
   "execution_count": null,
   "id": "aeaae9ab-9d01-468b-b611-a6d9932d5a18",
   "metadata": {},
   "outputs": [],
   "source": [
    "game.next_turn(None, -1)"
   ]
  },
  {
   "cell_type": "code",
   "execution_count": null,
   "id": "bfd01b1c-b754-4589-8799-3a6c17ccf1db",
   "metadata": {},
   "outputs": [],
   "source": [
    "game.roll_next()"
   ]
  },
  {
   "cell_type": "code",
   "execution_count": null,
   "id": "c95c8b0e-bcd7-4df7-8b04-cd0d23cf3c8d",
   "metadata": {},
   "outputs": [],
   "source": [
    "game.draw_card(0)"
   ]
  },
  {
   "cell_type": "code",
   "execution_count": null,
   "id": "eaf92f4b-d094-484b-bf3b-c1e0d26499aa",
   "metadata": {},
   "outputs": [],
   "source": [
    "game.play_card(0, \"Ritter\")"
   ]
  },
  {
   "cell_type": "code",
   "execution_count": null,
   "id": "c7427180-40bf-47ea-a0e3-2e578550a78d",
   "metadata": {},
   "outputs": [],
   "source": [
    "game.steal_resource(0, 1)"
   ]
  },
  {
   "cell_type": "code",
   "execution_count": null,
   "id": "d3789369-cc17-47bf-b904-7542780f40c4",
   "metadata": {},
   "outputs": [],
   "source": [
    "game.bandit()"
   ]
  },
  {
   "cell_type": "code",
   "execution_count": null,
   "id": "ed337eff-3ac5-4cd1-8b6d-360c33522b20",
   "metadata": {},
   "outputs": [],
   "source": [
    "game.buy(0, roads=2)"
   ]
  },
  {
   "cell_type": "code",
   "execution_count": null,
   "id": "a16b5832-5380-4b20-9cbe-4b3659bfbda9",
   "metadata": {},
   "outputs": [],
   "source": [
    "game.set_longest_road(0, 5)"
   ]
  },
  {
   "cell_type": "code",
   "execution_count": null,
   "id": "c9cea821-7b23-460a-b973-74c76ba640e0",
   "metadata": {},
   "outputs": [],
   "source": []
  }
 ],
 "metadata": {
  "kernelspec": {
   "display_name": "Python 3 (ipykernel)",
   "language": "python",
   "name": "python3"
  },
  "language_info": {
   "codemirror_mode": {
    "name": "ipython",
    "version": 3
   },
   "file_extension": ".py",
   "mimetype": "text/x-python",
   "name": "python",
   "nbconvert_exporter": "python",
   "pygments_lexer": "ipython3",
   "version": "3.8.5"
  }
 },
 "nbformat": 4,
 "nbformat_minor": 5
}
