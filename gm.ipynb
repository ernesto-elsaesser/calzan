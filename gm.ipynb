{
 "cells": [
  {
   "cell_type": "code",
   "execution_count": 1,
   "id": "035aa2e3-2f18-4815-8c62-315541d180d8",
   "metadata": {},
   "outputs": [],
   "source": [
    "import random\n",
    "from firebase_admin import initialize_app, credentials, db"
   ]
  },
  {
   "cell_type": "code",
   "execution_count": 2,
   "id": "d6ff129b-7cd3-4143-86d0-f0e25621269f",
   "metadata": {},
   "outputs": [],
   "source": [
    "import json"
   ]
  },
  {
   "cell_type": "code",
   "execution_count": 3,
   "id": "91d21aa9-7340-4ada-9ae6-74236bde10dc",
   "metadata": {},
   "outputs": [],
   "source": [
    "cred = credentials.Certificate('creds.json')"
   ]
  },
  {
   "cell_type": "code",
   "execution_count": 4,
   "id": "df563705-75d7-4bfb-870f-05843a67750a",
   "metadata": {},
   "outputs": [],
   "source": [
    "app = initialize_app(cred, {'databaseURL': \"https://calzan-default-rtdb.europe-west1.firebasedatabase.app/\"})"
   ]
  },
  {
   "cell_type": "code",
   "execution_count": 5,
   "id": "dc81ea00-b823-440d-990d-3ed65b436617",
   "metadata": {
    "tags": []
   },
   "outputs": [
    {
     "data": {
      "text/plain": [
       "2252495782"
      ]
     },
     "execution_count": 5,
     "metadata": {},
     "output_type": "execute_result"
    }
   ],
   "source": [
    "seed = random.randrange(2 ** 32)\n",
    "seed"
   ]
  },
  {
   "cell_type": "code",
   "execution_count": 6,
   "id": "018bd1b0-bd9e-4b46-8608-4e88a96d20db",
   "metadata": {},
   "outputs": [],
   "source": [
    "players = [\"Aang\", \"Katara\", \"Sokka\"]\n",
    "#random.shuffle(players)"
   ]
  },
  {
   "cell_type": "code",
   "execution_count": 13,
   "id": "6a190786-ea23-4745-be5b-c631a4a07173",
   "metadata": {},
   "outputs": [],
   "source": [
    "with open(\"board.json\") as json_file:\n",
    "    board = json.load(json_file)"
   ]
  },
  {
   "cell_type": "code",
   "execution_count": 14,
   "id": "07dd1579-2be5-4db5-9df5-f20cb29575b7",
   "metadata": {},
   "outputs": [],
   "source": [
    "db.reference(\"test\").set({\n",
    "    'seed': seed,\n",
    "    'players': players,\n",
    "    'board': board,\n",
    "})"
   ]
  },
  {
   "cell_type": "code",
   "execution_count": 12,
   "id": "590012bf-0e5c-4116-939d-4f669235e0dd",
   "metadata": {},
   "outputs": [
    {
     "data": {
      "text/plain": [
       "'2, 3, 3, 4, 4, 4, 5, 5, 5, 5, 6, 6, 6, 6, 6, 7, 7, 7, 7, 7, 7, 8, 8, 8, 8, 8, 9, 9, 9, 9, 10, 10, 10, 11, 11, 12'"
      ]
     },
     "execution_count": 12,
     "metadata": {},
     "output_type": "execute_result"
    }
   ],
   "source": [
    "', '.join([str(i) for i in sorted(a+b+2 for a in range(6) for b in range(6))])"
   ]
  },
  {
   "cell_type": "code",
   "execution_count": null,
   "id": "b26db712-4f91-4d41-a736-bc3e0c87e546",
   "metadata": {},
   "outputs": [],
   "source": []
  }
 ],
 "metadata": {
  "kernelspec": {
   "display_name": "Python 3 (ipykernel)",
   "language": "python",
   "name": "python3"
  },
  "language_info": {
   "codemirror_mode": {
    "name": "ipython",
    "version": 3
   },
   "file_extension": ".py",
   "mimetype": "text/x-python",
   "name": "python",
   "nbconvert_exporter": "python",
   "pygments_lexer": "ipython3",
   "version": "3.8.5"
  }
 },
 "nbformat": 4,
 "nbformat_minor": 5
}
