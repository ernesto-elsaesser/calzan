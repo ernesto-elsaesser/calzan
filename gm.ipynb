{
 "cells": [
  {
   "cell_type": "code",
   "execution_count": 16,
   "id": "035aa2e3-2f18-4815-8c62-315541d180d8",
   "metadata": {},
   "outputs": [],
   "source": [
    "import random"
   ]
  },
  {
   "cell_type": "code",
   "execution_count": 11,
   "id": "6b9be22f-5a39-45ff-b8e0-4cd29f9d0451",
   "metadata": {},
   "outputs": [],
   "source": [
    "from firebase_admin import initialize_app, credentials, db"
   ]
  },
  {
   "cell_type": "code",
   "execution_count": 2,
   "id": "91d21aa9-7340-4ada-9ae6-74236bde10dc",
   "metadata": {},
   "outputs": [],
   "source": [
    "cred = credentials.Certificate('creds.json')"
   ]
  },
  {
   "cell_type": "code",
   "execution_count": 3,
   "id": "df563705-75d7-4bfb-870f-05843a67750a",
   "metadata": {},
   "outputs": [],
   "source": [
    "app = initialize_app(cred, {'databaseURL': \"https://calzan-default-rtdb.europe-west1.firebasedatabase.app/\"})"
   ]
  },
  {
   "cell_type": "markdown",
   "id": "36ad671c-991f-44dd-a508-7bc52e9afbaa",
   "metadata": {},
   "source": [
    "# Init"
   ]
  },
  {
   "cell_type": "code",
   "execution_count": 7,
   "id": "8b65b5f4-5dbe-4cbd-92e8-2605d6f13337",
   "metadata": {},
   "outputs": [],
   "source": [
    "passwords = ['boss', 'rona', 'moin']"
   ]
  },
  {
   "cell_type": "code",
   "execution_count": 9,
   "id": "58711f4e-a7c5-4415-bb35-6c61175a27a5",
   "metadata": {},
   "outputs": [],
   "source": [
    "players = {}\n",
    "\n",
    "for num, password in enumerate(passwords):\n",
    "    \n",
    "    ref = db.reference('/' + password)\n",
    "    players[str(num+1)](ref)\n",
    "    ref.set({\n",
    "        \"number\": num,\n",
    "        \"resources\": {\"H\": 0, \"L\": 0, \"W\": 0, \"S\": 0, \"E\": 0},\n",
    "        \"cards\": {\n",
    "            \"knights\": 0,\n",
    "            \"playedKnights\": 0,\n",
    "            \"victory\": [],\n",
    "            \"actions\": [],\n",
    "            \"maxRoads\": False,\n",
    "            \"maxKnights\": False\n",
    "        }\n",
    "    })"
   ]
  },
  {
   "cell_type": "code",
   "execution_count": 5,
   "id": "d687625d-324e-4c0f-bbd2-44a6305397bd",
   "metadata": {},
   "outputs": [],
   "source": [
    "board = [    \n",
    "    \"                                 x           \",\n",
    "    \"                              + = +          \",\n",
    "    \"                            /     |          \",\n",
    "    \"                   e  + - +   W   + - +      \",\n",
    "    \"                    %     |   4 /     $ s    \",\n",
    "    \"              + - +   L   + - +   H   + - +  \",\n",
    "    \"            /     |   2 /     |   6 /     |  \",\n",
    "    \"          +   S   + - +   H   + - +   W   +  \",\n",
    "    \"          |   9 /     |   5 /     |   9 /    \",\n",
    "    \"       w  + - +   L   + - +   S   + - +      \",\n",
    "    \"        %     |   8 /  *  |  12 /     $ x    \",\n",
    "    \"      +   H   + - +   X   + - +   S   +      \",\n",
    "    \"      |   3 /     |     /     |   4 /        \",\n",
    "    \"      + - +   E   + - +   E   + - +          \",\n",
    "    \"    /     |   5 /     |   8 /     |          \",\n",
    "    \"  +   W   + - +   L   + - +   S   +          \",\n",
    "    \"x $   3 /     |  10 /     |  10 %            \",\n",
    "    \"  + - +   W   + - +   H   + - +  x           \",\n",
    "    \"      |   6 /     |  11 /                    \",\n",
    "    \"      + = +   E   + = +                      \",\n",
    "    \"       h  |  11 /  l                         \",\n",
    "    \"          + - +                              \",\n",
    "    \"                                             \"\n",
    "]"
   ]
  },
  {
   "cell_type": "code",
   "execution_count": 173,
   "id": "c835c69e-cbc1-48b7-821d-69034d2d19bc",
   "metadata": {},
   "outputs": [],
   "source": [
    "db.reference(\"/board\").set(board)"
   ]
  },
  {
   "cell_type": "code",
   "execution_count": 23,
   "id": "175ef7ee-72b9-411a-a43f-07d526ae03a0",
   "metadata": {},
   "outputs": [],
   "source": [
    "stack = [\"Ritter\"] * 14 + [\"Monopol\", \"Strassenbau\", \"Erfindung\"] * 2 + [\"Bibliothek\", \"Marktplatz\", \"Rathaus\", \"Kirche\", \"Universität\"]"
   ]
  },
  {
   "cell_type": "code",
   "execution_count": 28,
   "id": "896f7d23-adcc-4a02-921d-3742016e1a55",
   "metadata": {},
   "outputs": [],
   "source": [
    "random.shuffle(stack)"
   ]
  },
  {
   "cell_type": "code",
   "execution_count": 101,
   "id": "1f53d8b7-1801-4379-ab36-a97e5515cf6a",
   "metadata": {},
   "outputs": [
    {
     "data": {
      "text/plain": [
       "'Ritter'"
      ]
     },
     "execution_count": 101,
     "metadata": {},
     "output_type": "execute_result"
    }
   ],
   "source": [
    "stack.pop(0)"
   ]
  },
  {
   "cell_type": "markdown",
   "id": "d33f72e0-4e54-42f1-911f-88a2b92c6e27",
   "metadata": {},
   "source": [
    "# Würfeln"
   ]
  },
  {
   "cell_type": "code",
   "execution_count": 146,
   "id": "c20cdac7-f147-4cec-9595-4d1a577adb92",
   "metadata": {},
   "outputs": [],
   "source": [
    "numbers = list(players)\n",
    "nxt = 0"
   ]
  },
  {
   "cell_type": "code",
   "execution_count": 171,
   "id": "bfd01b1c-b754-4589-8799-3a6c17ccf1db",
   "metadata": {},
   "outputs": [],
   "source": [
    "roll = random.randint(1, 6) + random.randint(1, 6)\n",
    "nxt = (nxt + 1) % 3 \n",
    "db.reference(\"/turn\").set({'player': numbers[nxt], 'roll': str(roll)})"
   ]
  },
  {
   "cell_type": "code",
   "execution_count": null,
   "id": "96498529-c247-451d-9cd7-2fc025e67858",
   "metadata": {},
   "outputs": [],
   "source": [
    "rand_res = roll = random.randint(1, 6)"
   ]
  },
  {
   "cell_type": "markdown",
   "id": "f877b099-4e30-43dd-a553-7fa08f369b1f",
   "metadata": {},
   "source": [
    "# Game"
   ]
  },
  {
   "cell_type": "code",
   "execution_count": 172,
   "id": "218e1879-7f45-42bb-8646-d0cbd1adc1dc",
   "metadata": {},
   "outputs": [],
   "source": [
    "board = [    \n",
    "    \"                                 x           \",\n",
    "    \"                              + = +          \",\n",
    "    \"                            /     |          \",\n",
    "    \"                   e  + -2+   W   + - +      \",\n",
    "    \"                    %     |2  4 /     $ s    \",\n",
    "    \"              + - +   L   + -2#2  H   + - +  \",\n",
    "    \"            /     |   2 /     |   6 /     |  \",\n",
    "    \"          +   S   + -0+0  H   + - +1  W   +  \",\n",
    "    \"          |   9 /     |   5 /     |1  9 /    \",\n",
    "    \"       w  + - +   L   + - +   S   + -1+1     \",\n",
    "    \"        %     |   8 /     |  12 /1    $ x    \",\n",
    "    \"      +   H   +0- +   X   + - +1  S   +      \",\n",
    "    \"      |   3 /0    |     /     |1  4 /        \",\n",
    "    \"      + - +   E   + - +   E   + - +          \",\n",
    "    \"    /     |0  5 /     |   8 /1    |          \",\n",
    "    \"  +   W   + - +2  L   #1- +   S   +          \",\n",
    "    \"x $   3 /0 *  |2 10 /1    |  10 %            \",\n",
    "    \"  + - +0  W   + - +   H   + - +  x           \",\n",
    "    \"      |   6 /2    |  11 /                    \",\n",
    "    \"      + = +2  E   + = +                      \",\n",
    "    \"       h  |  11 /  l                         \",\n",
    "    \"          + - +                              \",\n",
    "    \"                                             \"\n",
    "]"
   ]
  },
  {
   "cell_type": "code",
   "execution_count": 173,
   "id": "836a939d-b0d0-4772-8f8a-d1ca56592156",
   "metadata": {},
   "outputs": [],
   "source": [
    "db.reference(\"/board\").set(board)"
   ]
  },
  {
   "cell_type": "code",
   "execution_count": null,
   "id": "c9cea821-7b23-460a-b973-74c76ba640e0",
   "metadata": {},
   "outputs": [],
   "source": []
  }
 ],
 "metadata": {
  "kernelspec": {
   "display_name": "Python 3",
   "language": "python",
   "name": "python3"
  },
  "language_info": {
   "codemirror_mode": {
    "name": "ipython",
    "version": 3
   },
   "file_extension": ".py",
   "mimetype": "text/x-python",
   "name": "python",
   "nbconvert_exporter": "python",
   "pygments_lexer": "ipython3",
   "version": "3.8.8"
  }
 },
 "nbformat": 4,
 "nbformat_minor": 5
}
