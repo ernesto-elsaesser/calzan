{
 "cells": [
  {
   "cell_type": "code",
   "execution_count": 1,
   "id": "035aa2e3-2f18-4815-8c62-315541d180d8",
   "metadata": {},
   "outputs": [],
   "source": [
    "import random\n",
    "from firebase_admin import initialize_app, credentials, db"
   ]
  },
  {
   "cell_type": "code",
   "execution_count": 2,
   "id": "91d21aa9-7340-4ada-9ae6-74236bde10dc",
   "metadata": {},
   "outputs": [],
   "source": [
    "cred = credentials.Certificate('creds.json')"
   ]
  },
  {
   "cell_type": "code",
   "execution_count": 3,
   "id": "df563705-75d7-4bfb-870f-05843a67750a",
   "metadata": {},
   "outputs": [],
   "source": [
    "app = initialize_app(cred, {'databaseURL': \"https://calzan-default-rtdb.europe-west1.firebasedatabase.app/\"})"
   ]
  },
  {
   "cell_type": "code",
   "execution_count": 4,
   "id": "0f50541f-4dbf-431c-8833-5bf980298b74",
   "metadata": {},
   "outputs": [],
   "source": [
    "h = \"Holz\"\n",
    "l = \"Lehm\"\n",
    "g = \"Getreide\"\n",
    "w = \"Wolle\"\n",
    "e = \"Erz\"\n",
    "x = \"Wüste\""
   ]
  },
  {
   "cell_type": "code",
   "execution_count": 9,
   "id": "dc81ea00-b823-440d-990d-3ed65b436617",
   "metadata": {},
   "outputs": [
    {
     "data": {
      "text/plain": [
       "1859272767"
      ]
     },
     "execution_count": 9,
     "metadata": {},
     "output_type": "execute_result"
    }
   ],
   "source": [
    "seed = random.randrange(2 ** 32)\n",
    "seed"
   ]
  },
  {
   "cell_type": "code",
   "execution_count": 13,
   "id": "07dd1579-2be5-4db5-9df5-f20cb29575b7",
   "metadata": {},
   "outputs": [],
   "source": [
    "db.reference(\"test/initial\").set({\n",
    "    'seed': seed,\n",
    "    'players': {'1': 'Simon', '2': 'Dave', '3': 'Heiko', '4': 'Niko'},\n",
    "    'sequence': {'1': '2', '2': '3', '3': '4', '4': '1'},\n",
    "    'tiles':  [[h, w, w], [g, e, g, h], [h, l, x, e, g], [g, e, h, w], [l, w, l]],\n",
    "    'rolls': [[6, 3, 8], [2, 4, 5, 10], [5, 9, None, 6, 9], [10, 11, 3, 12], [8, 4, 11]],\n",
    "})"
   ]
  },
  {
   "cell_type": "code",
   "execution_count": 5,
   "id": "7251fca6-49ca-4cef-8496-1c9a3ece48ce",
   "metadata": {},
   "outputs": [
    {
     "ename": "AttributeError",
     "evalue": "'Reference' object has no attribute 'on'",
     "output_type": "error",
     "traceback": [
      "\u001b[1;31m---------------------------------------------------------------------------\u001b[0m",
      "\u001b[1;31mAttributeError\u001b[0m                            Traceback (most recent call last)",
      "\u001b[1;32m<ipython-input-5-007553e11206>\u001b[0m in \u001b[0;36m<module>\u001b[1;34m\u001b[0m\n\u001b[1;32m----> 1\u001b[1;33m \u001b[0mdb\u001b[0m\u001b[1;33m.\u001b[0m\u001b[0mreference\u001b[0m\u001b[1;33m(\u001b[0m\u001b[1;34m\"test/actions\"\u001b[0m\u001b[1;33m)\u001b[0m\u001b[1;33m.\u001b[0m\u001b[0mon\u001b[0m\u001b[1;33m(\u001b[0m\u001b[1;34m'child_changed'\u001b[0m\u001b[1;33m,\u001b[0m \u001b[0mprint\u001b[0m\u001b[1;33m)\u001b[0m\u001b[1;33m\u001b[0m\u001b[1;33m\u001b[0m\u001b[0m\n\u001b[0m",
      "\u001b[1;31mAttributeError\u001b[0m: 'Reference' object has no attribute 'on'"
     ]
    }
   ],
   "source": [
    "db.reference(\"test/actions\").on('child_changed', print)"
   ]
  },
  {
   "cell_type": "code",
   "execution_count": null,
   "id": "c2782de2-1067-44ad-a204-38198b7b5bec",
   "metadata": {},
   "outputs": [],
   "source": [
    "players = {'Simon': 'gruft', 'Dave': 'clutch', 'Heiko': 'milch', 'Niko': 'wow'}\n",
    "player_names = list(players)\n",
    "player_refs = [players_ref.child(k) for k in players.values()]\n",
    "res_refs = [r.child('resources') for r in player_refs]\n",
    "card_refs = [r.child('cards') for r in player_refs]\n",
    "player_count = len(players)"
   ]
  },
  {
   "cell_type": "code",
   "execution_count": null,
   "id": "ad141e29-ef3b-40a6-b2c3-0d98fc68aebe",
   "metadata": {},
   "outputs": [],
   "source": [
    "h = \"Holz\"\n",
    "l = \"Lehm\"\n",
    "g = \"Getreide\"\n",
    "w = \"Wolle\"\n",
    "e = \"Erz\"\n",
    "x = \"Wüste\"\n",
    "\n",
    "resources = [h, l, g, w, e]\n",
    "resource_order = {r: i for i, r in enumerate(resources)}"
   ]
  },
  {
   "cell_type": "code",
   "execution_count": null,
   "id": "47872e0f-d31d-4b82-9618-3fe08510362d",
   "metadata": {},
   "outputs": [],
   "source": [
    "# init board\n",
    "tiles = [[h, w, w], [g, e, g, h], [h, l, x, e, g], [g, e, h, w], [l, w, l]]\n",
    "rolls = [[6, 3, 8], [2, 4, 5, 10], [5, 9, None, 6, 9], [10, 11, 3, 12], [8, 4, 11]]\n",
    "ports = ['*', w, '*', e, '*', g, l, '*', h]\n",
    "row_count = 11\n",
    "col_count = 21\n",
    "\n",
    "board = [[{'id': f\"{row}.{col}\"} for col in range(col_count)] for row in range(row_count)]\n",
    "\n",
    "for r, ts in enumerate(tiles):\n",
    "    row = 1 + (r * 2)\n",
    "    pad = (1 + abs(r - 2)) * 2 \n",
    "    for c, tile in enumerate(ts):\n",
    "        col = pad + c * 4\n",
    "        roll = rolls[r][c]\n",
    "        board[row][col]['tile'] = tile\n",
    "        board[row][col]['roll'] = roll\n",
    "        board[row][col]['bandit'] = roll == None\n",
    "\n",
    "board[0][5]['port'] = ports[0]\n",
    "board[0][5]['face'] = 'NW'\n",
    "board[0][11]['port'] = ports[1]\n",
    "board[0][11]['face'] = 'NE'\n",
    "board[2][17]['port'] = ports[2]\n",
    "board[2][17]['face'] = 'NE'\n",
    "board[3][2]['port'] = ports[3]\n",
    "board[3][2]['face'] = 'W'\n",
    "board[5][20]['port'] = ports[4]\n",
    "board[5][20]['face'] = 'E'\n",
    "board[7][2]['port'] = ports[5]\n",
    "board[7][2]['face'] = 'W'\n",
    "board[8][17]['port'] = ports[6]\n",
    "board[8][17]['face'] = 'SE'\n",
    "board[10][5]['port'] = ports[7]\n",
    "board[10][5]['face'] = 'SW'\n",
    "board[10][11]['port'] = ports[8]\n",
    "board[10][11]['face'] = 'SE'\n",
    "\n",
    "board_ref.set(board)"
   ]
  },
  {
   "cell_type": "code",
   "execution_count": null,
   "id": "6036e304-f8a2-4065-a9e4-1e84846d50d1",
   "metadata": {},
   "outputs": [],
   "source": [
    "# init players\n",
    "player_data = {k: {\"index\": i} for i, k in enumerate(players.values())}\n",
    "players_ref.set(player_data) "
   ]
  },
  {
   "cell_type": "code",
   "execution_count": null,
   "id": "ab938d61-60ad-4d5b-806c-bcb067c89d55",
   "metadata": {},
   "outputs": [],
   "source": [
    "# init cards\n",
    "stack = [\"Ritter\"] * 14 + [\"Monopol\", \"Strassenbau\", \"Erfindung\"] * 2\n",
    "stack += [\"Bibliothek\", \"Marktplatz\", \"Rathaus\", \"Kirche\", \"Universität\"]\n",
    "random.shuffle(stack)\n",
    "stack_ref.set(stack)"
   ]
  },
  {
   "cell_type": "code",
   "execution_count": null,
   "id": "bba7db38-2880-4acd-a4fa-08540153ef09",
   "metadata": {},
   "outputs": [],
   "source": [
    "# init turn\n",
    "first_index = random.randrange(player_count)\n",
    "current_index = first_index\n",
    "turn_ref.set({'names': player_names, 'index': first_index, 'maxKnightCount': 2})"
   ]
  },
  {
   "cell_type": "code",
   "execution_count": null,
   "id": "a96cd440-a602-405d-bf9a-a0a84c34c50b",
   "metadata": {},
   "outputs": [],
   "source": [
    "# shortcuts\n",
    "\n",
    "def info():\n",
    "    \n",
    "    infos = players_ref.get()\n",
    "    for info in infos.values():\n",
    "        name = player_names[info['index']]\n",
    "        resources = ' '.join(info.get('resources', []))\n",
    "        cards = ' '.join(info.get('cards', []))\n",
    "        print(f\"{name}: {resources} | {cards}\")\n",
    "        \n",
    "              \n",
    "def give(index, gains):\n",
    "    \n",
    "    resources = res_refs[index].get() or []\n",
    "    resources += gains\n",
    "    resources = sorted(resources, key=lambda r: resource_order[r])\n",
    "    res_refs[index].set(resources)\n",
    "    \n",
    "\n",
    "def take(index, costs):\n",
    "    \n",
    "    resources = res_refs[index].get()\n",
    "    for resource in costs:\n",
    "        resources.remove(resource)\n",
    "    res_refs[index].set(resources)\n",
    "    \n",
    "    \n",
    "def place(row, col, key, value):\n",
    "    \n",
    "    board = board_ref.get()\n",
    "    board[row][col][key] = value\n",
    "    board_ref.set(board)\n",
    "    \n",
    "    \n",
    "def start(row, col, drow, dcol):\n",
    "    \n",
    "    place(row, col, 'town', current_index)\n",
    "    place(row + drow, col + dcol, 'road', current_index)\n",
    "    \n",
    "    # TODO grant resources!\n",
    "    \n",
    "\n",
    "def road(row, col):\n",
    "\n",
    "    take(current_index, [h, l])\n",
    "    place(row, col, 'road', current_index)\n",
    "    \n",
    "\n",
    "def town(row, col):\n",
    "\n",
    "    take(current_index, [h, l, g, w])\n",
    "    place(row, col, 'town', current_index)\n",
    "    \n",
    "\n",
    "def city(row, col):\n",
    "\n",
    "    take(current_index, [g, g, e, e, e])\n",
    "    place(row, col, 'city', True)\n",
    "    \n",
    "\n",
    "def draw():\n",
    "\n",
    "    take(current_index, [g, w, e])\n",
    "    \n",
    "    stack = stack_ref.get()\n",
    "    card_index = random.randrange(len(stack))\n",
    "    card = stack.pop(card_index)\n",
    "    stack_ref.set(stack)\n",
    "\n",
    "    cards = card_refs[current_index].get() or []\n",
    "    cards.append(card)\n",
    "    card_refs[current_index].set(cards)\n",
    "    \n",
    "    \n",
    "def bandit(row, col):\n",
    "\n",
    "    board = board_ref.get()\n",
    "    for r in range(row_count):\n",
    "        for c in range(col_count):\n",
    "            board[r][c]['bandit'] = r == row and c == col\n",
    "    board_ref.set(board)\n",
    "    \n",
    "    for index, res_ref in enumerate(res_refs):\n",
    "        resources = res_ref.get()\n",
    "        res_count = len(resources)\n",
    "        if len(resources) > 7:\n",
    "            name = player_names[index]\n",
    "            drop_count = res_count // 2\n",
    "            print(f\"{name} [{index}] must drop {drop_count} resources!\")\n",
    "    \n",
    "\n",
    "def steal(from_index):\n",
    "\n",
    "    resources = res_refs[from_index].get()\n",
    "    steal_index = random.randrange(len(resources))\n",
    "    resource = resources.pop(steal_index)\n",
    "    res_refs[from_index].set(resources)\n",
    "    \n",
    "    give(current_index, [resource])\n",
    "    \n",
    "    \n",
    "def knight(row, col, steal_index):\n",
    "    \n",
    "    cards = card_refs[current_index].get()\n",
    "    cards.remove(\"Ritter\")\n",
    "    cards.append(\"Ritter (gespielt)\")\n",
    "    card_refs[current_index].set(cards)\n",
    "    \n",
    "    knight_count = cards.count(\"Ritter (gespielt)\")\n",
    "    turn = turn_ref.get()\n",
    "    if knight_count > turn['maxKnightCount']:\n",
    "        turn['maxKnightCount'] = knight_count\n",
    "        turn['maxKnightIndex'] = current_index\n",
    "        turn_ref.set(turn)\n",
    "        \n",
    "    bandit(row, col)\n",
    "    steal(from_index)\n",
    "    \n",
    "    \n",
    "def build(row1, col1, row2, col2):\n",
    "\n",
    "    road(row1, col1)\n",
    "    road(row2, col2)\n",
    "    \n",
    "\n",
    "def mono(res):\n",
    "\n",
    "    gains = []\n",
    "    \n",
    "    for index, res_ref in enumerate(res_refs):\n",
    "        if index == current_index:\n",
    "            continue\n",
    "        resources = res_ref.get()\n",
    "        losses = [r for r in resources if r == res]\n",
    "        take(index, losses)\n",
    "        gains += losses\n",
    "        \n",
    "    give(current_index, gains)\n",
    "\n",
    "        \n",
    "def invent(res1, res2):\n",
    "    \n",
    "    give(current_index, [res1, res2])"
   ]
  },
  {
   "cell_type": "code",
   "execution_count": null,
   "id": "01be9079-3ef6-49d0-8039-acc35be2708a",
   "metadata": {},
   "outputs": [],
   "source": [
    "S = 0\n",
    "D = 1\n",
    "H = 2\n",
    "N = 3"
   ]
  },
  {
   "cell_type": "code",
   "execution_count": null,
   "id": "b2c264c3-6f2b-4d77-8952-17d002766d7d",
   "metadata": {},
   "outputs": [],
   "source": [
    "current_index = (current_index + 1) % player_count"
   ]
  },
  {
   "cell_type": "code",
   "execution_count": null,
   "id": "f6fe95fb-10ef-4883-8069-ff85bfdfd8df",
   "metadata": {},
   "outputs": [],
   "source": [
    "current_index = (current_index - 1) % player_count"
   ]
  },
  {
   "cell_type": "code",
   "execution_count": null,
   "id": "ea3a84ce-06b2-4fa7-b89e-1c4d3bf541bc",
   "metadata": {},
   "outputs": [],
   "source": [
    "turn_ref.update({'index': current_index})"
   ]
  },
  {
   "cell_type": "code",
   "execution_count": null,
   "id": "0f3b4949-19ba-42b5-ae3c-3d8ca1a1f64e",
   "metadata": {},
   "outputs": [],
   "source": [
    "turn_ref.update({'index': current_index, 'roll': random.randint(1, 6) + random.randint(1, 6)})"
   ]
  },
  {
   "cell_type": "code",
   "execution_count": null,
   "id": "86280301-dfc3-41cb-839b-1a80dd095cbd",
   "metadata": {},
   "outputs": [],
   "source": [
    "current_index = first_index + 1"
   ]
  },
  {
   "cell_type": "code",
   "execution_count": null,
   "id": "22ba0100-c814-4d80-a5a5-776ded22c2be",
   "metadata": {},
   "outputs": [],
   "source": [
    "start(2, 8, -1, 0)"
   ]
  },
  {
   "cell_type": "code",
   "execution_count": null,
   "id": "738d65c5-5d5f-4eaf-91d9-0d3845d41cf8",
   "metadata": {},
   "outputs": [],
   "source": [
    "start(2, 14, 0, -1)"
   ]
  },
  {
   "cell_type": "code",
   "execution_count": null,
   "id": "a8570892-e63f-416c-b9b0-03922b28815f",
   "metadata": {},
   "outputs": [],
   "source": [
    "start(8, 10, 0, 1)"
   ]
  },
  {
   "cell_type": "code",
   "execution_count": null,
   "id": "01c3e308-9cd5-48e9-92bd-6d3d2200adfe",
   "metadata": {},
   "outputs": [],
   "source": [
    "give(H, [g, w, e])"
   ]
  },
  {
   "cell_type": "code",
   "execution_count": null,
   "id": "0a6807c0-531c-41da-920b-aa503665e13f",
   "metadata": {},
   "outputs": [],
   "source": [
    "town(6, 16)"
   ]
  },
  {
   "cell_type": "code",
   "execution_count": null,
   "id": "faa3a689-783c-41cc-8dd3-73fcd60606f7",
   "metadata": {},
   "outputs": [],
   "source": [
    "road(2, 9)"
   ]
  },
  {
   "cell_type": "code",
   "execution_count": null,
   "id": "120f8797-cc5c-43b8-a0a4-252510c05540",
   "metadata": {},
   "outputs": [],
   "source": [
    "draw()"
   ]
  },
  {
   "cell_type": "code",
   "execution_count": null,
   "id": "34117a37-c6a0-41d0-956b-153ba90d8930",
   "metadata": {},
   "outputs": [],
   "source": [
    "info()"
   ]
  },
  {
   "cell_type": "code",
   "execution_count": null,
   "id": "43e742f3-6180-4b1c-8e1c-5f6bba0d77a0",
   "metadata": {},
   "outputs": [],
   "source": [
    "turn_ref.update({'longestRoadIndex': current_index, 'longestRoadCount': 5})"
   ]
  },
  {
   "cell_type": "markdown",
   "id": "847dde51-939b-41ef-a96a-c69cd87cea74",
   "metadata": {},
   "source": [
    "Fix:\n",
    "- backend\n",
    "    - trade functions\n",
    "    - bandit loss communicate\n",
    "    - roll resource automation!\n",
    "- frontend\n",
    "    - knight count in header?\n",
    "    - Gelb Kontrast!"
   ]
  }
 ],
 "metadata": {
  "kernelspec": {
   "display_name": "Python 3",
   "language": "python",
   "name": "python3"
  },
  "language_info": {
   "codemirror_mode": {
    "name": "ipython",
    "version": 3
   },
   "file_extension": ".py",
   "mimetype": "text/x-python",
   "name": "python",
   "nbconvert_exporter": "python",
   "pygments_lexer": "ipython3",
   "version": "3.8.8"
  }
 },
 "nbformat": 4,
 "nbformat_minor": 5
}
